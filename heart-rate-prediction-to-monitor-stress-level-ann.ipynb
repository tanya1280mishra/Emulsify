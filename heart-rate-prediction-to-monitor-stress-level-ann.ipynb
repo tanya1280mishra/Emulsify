{
 "cells": [
  {
   "cell_type": "code",
   "execution_count": 1,
   "metadata": {
    "_cell_guid": "b1076dfc-b9ad-4769-8c92-a6c4dae69d19",
    "_uuid": "8f2839f25d086af736a60e9eeb907d3b93b6e0e5",
    "execution": {
     "iopub.execute_input": "2024-11-09T15:49:32.408290Z",
     "iopub.status.busy": "2024-11-09T15:49:32.407840Z",
     "iopub.status.idle": "2024-11-09T15:49:32.426683Z",
     "shell.execute_reply": "2024-11-09T15:49:32.425231Z",
     "shell.execute_reply.started": "2024-11-09T15:49:32.408248Z"
    },
    "trusted": true
   },
   "outputs": [],
   "source": [
    "# This Python 3 environment comes with many helpful analytics libraries installed\n",
    "# It is defined by the kaggle/python Docker image: https://github.com/kaggle/docker-python\n",
    "# For example, here's several helpful packages to load\n",
    "\n",
    "import numpy as np # linear algebra\n",
    "import pandas as pd # data processing, CSV file I/O (e.g. pd.read_csv)\n",
    "\n",
    "# Input data files are available in the read-only \"../input/\" directory\n",
    "# For example, running this (by clicking run or pressing Shift+Enter) will list all files under the input directory\n",
    "\n",
    "import os\n",
    "for dirname, _, filenames in os.walk('/kaggle/input'):\n",
    "    for filename in filenames:\n",
    "        print(os.path.join(dirname, filename))\n",
    "\n",
    "# You can write up to 20GB to the current directory (/kaggle/working/) that gets preserved as output when you create a version using \"Save & Run All\" \n",
    "# You can also write temporary files to /kaggle/temp/, but they won't be saved outside of the current session"
   ]
  },
  {
   "cell_type": "code",
   "execution_count": 2,
   "metadata": {
    "execution": {
     "iopub.execute_input": "2024-11-09T15:49:34.894641Z",
     "iopub.status.busy": "2024-11-09T15:49:34.894205Z",
     "iopub.status.idle": "2024-11-09T15:49:34.902129Z",
     "shell.execute_reply": "2024-11-09T15:49:34.900621Z",
     "shell.execute_reply.started": "2024-11-09T15:49:34.894603Z"
    },
    "trusted": true
   },
   "outputs": [
    {
     "name": "stderr",
     "output_type": "stream",
     "text": [
      "2024-11-11 18:20:34.917909: I tensorflow/core/util/port.cc:153] oneDNN custom operations are on. You may see slightly different numerical results due to floating-point round-off errors from different computation orders. To turn them off, set the environment variable `TF_ENABLE_ONEDNN_OPTS=0`.\n",
      "2024-11-11 18:20:35.014147: E external/local_xla/xla/stream_executor/cuda/cuda_fft.cc:477] Unable to register cuFFT factory: Attempting to register factory for plugin cuFFT when one has already been registered\n",
      "WARNING: All log messages before absl::InitializeLog() is called are written to STDERR\n",
      "E0000 00:00:1731329435.053904    4213 cuda_dnn.cc:8310] Unable to register cuDNN factory: Attempting to register factory for plugin cuDNN when one has already been registered\n",
      "E0000 00:00:1731329435.064917    4213 cuda_blas.cc:1418] Unable to register cuBLAS factory: Attempting to register factory for plugin cuBLAS when one has already been registered\n",
      "2024-11-11 18:20:35.153589: I tensorflow/core/platform/cpu_feature_guard.cc:210] This TensorFlow binary is optimized to use available CPU instructions in performance-critical operations.\n",
      "To enable the following instructions: AVX2 AVX_VNNI FMA, in other operations, rebuild TensorFlow with the appropriate compiler flags.\n"
     ]
    }
   ],
   "source": [
    "import tensorflow as tf  # Importing TensorFlow, a powerful library for deep learning and machine learning tasks, especially useful for building neural networks.\n",
    "from sklearn.preprocessing import StandardScaler  # Importing StandardScaler to normalize or standardize features by removing the mean and scaling to unit variance.\n",
    "import tensorflow.keras as k  # Importing Keras (part of TensorFlow) for building and training deep learning models easily.\n",
    "from sklearn.model_selection import train_test_split  # Importing train_test_split to split data into training and testing sets.\n",
    "from matplotlib import pyplot as plt  # Importing matplotlib's pyplot to visualize data and create plots.\n",
    "import time  # Importing time to track execution times during training or testing models.\n",
    "from tensorflow.keras import Sequential  # Importing the Sequential class from Keras to create a sequential model, which is a linear stack of layers.\n",
    "from tensorflow.keras.layers import Dense  # Importing the Dense layer, which is a fully connected layer, commonly used in neural networks"
   ]
  },
  {
   "cell_type": "markdown",
   "metadata": {},
   "source": [
    "# Project Overview: Predicting Stress Levels Using Photoplethysmography Features\n",
    "\n",
    "Welcome to our new data science project, where the goal is to predict stress levels using Photoplethysmography (PPG) features. Throughout this project, we will dive into the world of classification algorithms and specifically leverage Artificial Neural Networks (ANNs) to achieve our predictive goal.\n",
    "\n",
    "## Key Concepts Covered:\n",
    "\n",
    "1. **Understanding Classification:**\n",
    "   - We’ll explore the concept of classification, a machine learning technique used to categorize data into distinct classes, such as “high stress” or “low stress” in our case.\n",
    "\n",
    "2. **Photoplethysmography (PPG) and Heart Rate Variability (HRV):**\n",
    "   - Learn what PPG is and how it measures heart rate variability, which is key to stress prediction.\n",
    "\n",
    "3. **Data Cleaning and Preprocessing:**\n",
    "   - Understand how to handle outliers, missing values, and perform feature selection.\n",
    "\n",
    "4. **Building and Training Neural Networks:**\n",
    "   - We’ll train Artificial Neural Networks (ANNs) to classify stress levels based on the PPG data.\n",
    "\n",
    "## What is Classification?\n",
    "\n",
    "Classification is a common type of machine learning algorithm used to categorize data into two or more classes. Some examples of classification problems include:\n",
    "\n",
    "- **Object Classification:** Recognizing objects in images.\n",
    "- **Sentiment Classification:** Determining if a text has positive or negative sentiment.\n",
    "- **Flower Classification:** Identifying different species of flowers.\n",
    "- **Tumor Classification:** Predicting if a tumor is benign or malignant.\n",
    "\n",
    "In this project, we will be tackling a similar classification problem—predicting stress levels from PPG data.\n",
    "\n",
    "## What is Photoplethysmography (PPG)?\n",
    "\n",
    "Photoplethysmography (PPG) uses infrared light to measure volumetric variations of blood circulation. PPG is a non-invasive method that helps in tracking changes in heart rate and blood flow, which are useful indicators of stress.\n",
    "\n",
    "---\n",
    "\n",
    "This project is designed to take you through a complete end-to-end machine learning workflow, from data preprocessing to model deployment. Let’s get started!"
   ]
  },
  {
   "cell_type": "code",
   "execution_count": 9,
   "metadata": {
    "execution": {
     "iopub.execute_input": "2024-11-09T15:49:39.470624Z",
     "iopub.status.busy": "2024-11-09T15:49:39.470205Z",
     "iopub.status.idle": "2024-11-09T15:49:44.553102Z",
     "shell.execute_reply": "2024-11-09T15:49:44.552064Z",
     "shell.execute_reply.started": "2024-11-09T15:49:39.470588Z"
    },
    "trusted": true
   },
   "outputs": [],
   "source": [
    "# Loading Training Data\n",
    "time_domain_train = pd.read_csv('/home/gesture-queen/Desktop/EmulsifyFinal/StressPrictionDATAset/Train Data/Train Data Zip/time_domain_features_train.csv')\n",
    "frequency_domain_train = pd.read_csv('/home/gesture-queen/Desktop/EmulsifyFinal/StressPrictionDATAset/Train Data/Train Data Zip/frequency_domain_features_train.csv')\n",
    "non_linear_features_train = pd.read_csv('/home/gesture-queen/Desktop/EmulsifyFinal/StressPrictionDATAset/Train Data/Train Data Zip/heart_rate_non_linear_features_train.csv')\n",
    "# Loading Test Data\n",
    "time_domain_test = pd.read_csv('/home/gesture-queen/Desktop/EmulsifyFinal/StressPrictionDATAset/Test Data/Test Zip/time_domain_features_test.csv')\n",
    "frequency_domain_test = pd.read_csv('/home/gesture-queen/Desktop/EmulsifyFinal/StressPrictionDATAset/Test Data/Test Zip/frequency_domain_features_test.csv')\n",
    "non_linear_features_test = pd.read_csv('/home/gesture-queen/Desktop/EmulsifyFinal/StressPrictionDATAset/Test Data/Test Zip/heart_rate_non_linear_features_test.csv')"
   ]
  },
  {
   "cell_type": "code",
   "execution_count": 10,
   "metadata": {
    "execution": {
     "iopub.execute_input": "2024-11-09T15:49:46.682101Z",
     "iopub.status.busy": "2024-11-09T15:49:46.681587Z",
     "iopub.status.idle": "2024-11-09T15:49:51.521277Z",
     "shell.execute_reply": "2024-11-09T15:49:51.519590Z",
     "shell.execute_reply.started": "2024-11-09T15:49:46.682053Z"
    },
    "trusted": true
   },
   "outputs": [
    {
     "name": "stdout",
     "output_type": "stream",
     "text": [
      "Displaying head of file: /home/gesture-queen/Desktop/EmulsifyFinal/StressPrictionDATAset/Train Data/Train Data Zip/frequency_domain_features_train.csv\n",
      "                                   uuid          VLF    VLF_PCT           LF  \\\n",
      "0  89df2855-56eb-4706-a23b-b39363dd605a  2661.894136  72.203287  1009.249419   \n",
      "1  80c795e4-aa56-4cc0-939c-19634b89cbb2  2314.265450  76.975728   690.113275   \n",
      "2  c2d5d102-967c-487d-88f2-8b005a449f3e  1373.887112  51.152225  1298.222619   \n",
      "3  37eabc44-1349-4040-8896-0d113ad4811f  2410.357408  70.180308  1005.981659   \n",
      "4  aa777a6a-7aa3-4f6e-aced-70f8691dd2b7  1151.177330  43.918366  1421.782051   \n",
      "\n",
      "      LF_PCT      LF_NU         HF    HF_PCT     HF_NU           TP  \\\n",
      "0  27.375666  98.485263  15.522603  0.421047  1.514737  3686.666157   \n",
      "1  22.954139  99.695397   2.108525  0.070133  0.304603  3006.487251   \n",
      "2  48.335104  98.950472  13.769729  0.512671  1.049528  2685.879461   \n",
      "3  29.290305  98.224706  18.181913  0.529387  1.775294  3434.520980   \n",
      "4  54.242160  96.720007  48.215822  1.839473  3.279993  2621.175204   \n",
      "\n",
      "        LF_HF     HF_LF  \n",
      "0   65.018055  0.015380  \n",
      "1  327.296635  0.003055  \n",
      "2   94.280910  0.010607  \n",
      "3   55.328701  0.018074  \n",
      "4   29.487873  0.033912   \n",
      "\n",
      "Displaying head of file: /home/gesture-queen/Desktop/EmulsifyFinal/StressPrictionDATAset/Train Data/Train Data Zip/heart_rate_non_linear_features_train.csv\n",
      "                                   uuid        SD1         SD2    sampen  \\\n",
      "0  89df2855-56eb-4706-a23b-b39363dd605a  11.001565  199.061782  2.139754   \n",
      "1  80c795e4-aa56-4cc0-939c-19634b89cbb2   9.170129  114.634458  2.174499   \n",
      "2  c2d5d102-967c-487d-88f2-8b005a449f3e  11.533417  118.939253  2.135350   \n",
      "3  37eabc44-1349-4040-8896-0d113ad4811f  11.119476  127.318597  2.178341   \n",
      "4  aa777a6a-7aa3-4f6e-aced-70f8691dd2b7  13.590641   87.718281  2.221121   \n",
      "\n",
      "     higuci  datasetId     condition  \n",
      "0  1.163485          2     no stress  \n",
      "1  1.084711          2  interruption  \n",
      "2  1.176315          2  interruption  \n",
      "3  1.179688          2     no stress  \n",
      "4  1.249612          2     no stress   \n",
      "\n",
      "Displaying head of file: /home/gesture-queen/Desktop/EmulsifyFinal/StressPrictionDATAset/Train Data/Train Data Zip/time_domain_features_train.csv\n",
      "      MEAN_RR   MEDIAN_RR        SDRR      RMSSD       SDSD  SDRR_RMSSD  \\\n",
      "0  885.157845  853.763730  140.972741  15.554505  15.553371    9.063146   \n",
      "1  939.425371  948.357865   81.317742  12.964439  12.964195    6.272369   \n",
      "2  898.186047  907.006860   84.497236  16.305279  16.305274    5.182201   \n",
      "3  881.757865  893.460030   90.370537  15.720468  15.720068    5.748591   \n",
      "4  809.625331  811.184865   62.766242  19.213819  19.213657    3.266724   \n",
      "\n",
      "          HR      pNN25     pNN50      KURT      SKEW  MEAN_REL_RR  \\\n",
      "0  69.499952  11.133333  0.533333 -0.856554  0.335218    -0.000203   \n",
      "1  64.363150   5.600000  0.000000 -0.408190 -0.155286    -0.000059   \n",
      "2  67.450066  13.066667  0.200000  0.351789 -0.656813    -0.000011   \n",
      "3  68.809562  11.800000  0.133333 -0.504947 -0.386138     0.000112   \n",
      "4  74.565728  20.200000  0.200000 -0.548408 -0.154252    -0.000100   \n",
      "\n",
      "   MEDIAN_REL_RR  SDRR_REL_RR  RMSSD_REL_RR  SDSD_REL_RR  SDRR_RMSSD_REL_RR  \\\n",
      "0      -0.000179     0.017080      0.007969     0.007969           2.143342   \n",
      "1       0.000611     0.013978      0.004769     0.004769           2.930855   \n",
      "2      -0.000263     0.018539      0.008716     0.008716           2.127053   \n",
      "3       0.000494     0.017761      0.008660     0.008660           2.050988   \n",
      "4      -0.002736     0.023715      0.013055     0.013055           1.816544   \n",
      "\n",
      "   KURT_REL_RR  SKEW_REL_RR                                  uuid  \n",
      "0    -0.856554     0.335218  89df2855-56eb-4706-a23b-b39363dd605a  \n",
      "1    -0.408190    -0.155286  80c795e4-aa56-4cc0-939c-19634b89cbb2  \n",
      "2     0.351789    -0.656813  c2d5d102-967c-487d-88f2-8b005a449f3e  \n",
      "3    -0.504947    -0.386138  37eabc44-1349-4040-8896-0d113ad4811f  \n",
      "4    -0.548408    -0.154252  aa777a6a-7aa3-4f6e-aced-70f8691dd2b7   \n",
      "\n",
      "Displaying head of file: /home/gesture-queen/Desktop/EmulsifyFinal/StressPrictionDATAset/Test Data/Test Zip/frequency_domain_features_test.csv\n",
      "                                   uuid          VLF    VLF_PCT           LF  \\\n",
      "0  62b75db5-bc40-4c8f-9166-daf0efcab4c2  1868.532278  76.511189   570.643114   \n",
      "1  a99549ad-3eb6-4413-bc90-9053e7f7e684   568.742845  26.301350  1553.971621   \n",
      "2  cb573d3a-c767-4556-b32e-ad8c08ded214  2101.871207  75.836461   655.175895   \n",
      "3  47a0c6de-2aef-4ac3-997d-252fa6fd07f1  5757.544433  90.562305   592.913021   \n",
      "4  de3fd54f-c74e-4fe8-bf2a-7a127f68b312   964.696325  70.256575   374.939530   \n",
      "\n",
      "      LF_PCT      LF_NU         HF    HF_PCT     HF_NU           TP  \\\n",
      "0  23.366245  99.478197   2.993254  0.122565  0.521803  2442.168645   \n",
      "1  71.862973  97.509212  39.694850  1.835677  2.490788  2162.409316   \n",
      "2  23.639042  97.829386  14.536877  0.524497  2.170614  2771.583978   \n",
      "3   9.326123  98.817806   7.093235  0.111572  1.182194  6357.550689   \n",
      "4  27.305968  91.805057  33.468834  2.437457  8.194943  1373.104689   \n",
      "\n",
      "        LF_HF     HF_LF  \n",
      "0  190.643094  0.005245  \n",
      "1   39.147940  0.025544  \n",
      "2   45.069921  0.022188  \n",
      "3   83.588517  0.011963  \n",
      "4   11.202647  0.089265   \n",
      "\n",
      "Displaying head of file: /home/gesture-queen/Desktop/EmulsifyFinal/StressPrictionDATAset/Test Data/Test Zip/heart_rate_non_linear_features_test.csv\n",
      "                                   uuid        SD1         SD2    sampen  \\\n",
      "0  62b75db5-bc40-4c8f-9166-daf0efcab4c2   8.347898  115.862444  2.209659   \n",
      "1  a99549ad-3eb6-4413-bc90-9053e7f7e684  14.542096   77.118903  2.186132   \n",
      "2  cb573d3a-c767-4556-b32e-ad8c08ded214   9.799336  125.044377  2.051571   \n",
      "3  47a0c6de-2aef-4ac3-997d-252fa6fd07f1  11.639185  302.029812  2.080910   \n",
      "4  de3fd54f-c74e-4fe8-bf2a-7a127f68b312   7.266567   72.579248  2.068728   \n",
      "\n",
      "     higuci  datasetId      condition  \n",
      "0  1.100715          2  time pressure  \n",
      "1  1.290615          2      no stress  \n",
      "2  1.226663          2      no stress  \n",
      "3  1.085143          2  time pressure  \n",
      "4  1.252547          2   interruption   \n",
      "\n",
      "Displaying head of file: /home/gesture-queen/Desktop/EmulsifyFinal/StressPrictionDATAset/Test Data/Test Zip/time_domain_features_test.csv\n",
      "       MEAN_RR  MEDIAN_RR        SDRR      RMSSD       SDSD  SDRR_RMSSD  \\\n",
      "0   934.665288  939.03173   82.139495  11.801781  11.801772    6.959924   \n",
      "1   817.062380  816.33879   55.492332  20.558810  20.558768    2.699200   \n",
      "2   876.762022  894.19889   88.690820  13.853737  13.853730    6.401942   \n",
      "3  1038.640693  998.91429  213.725850  16.457194  16.454801   12.986774   \n",
      "4   774.548508  778.90508   51.577855  10.273114  10.273049    5.020664   \n",
      "\n",
      "       pNN25     pNN50      KURT      SKEW  MEAN_REL_RR  MEDIAN_REL_RR  \\\n",
      "0   3.933333  0.133333 -0.680262 -0.233075     0.000016       0.000288   \n",
      "1  24.600000  0.533333 -0.034454 -0.051689     0.000040      -0.002749   \n",
      "2   7.066667  0.533333 -0.206953 -0.589940     0.000010      -0.000172   \n",
      "3  10.800000  1.866667 -0.820407  0.487198    -0.000238      -0.000464   \n",
      "4   2.000000  0.066667  1.738453 -0.005082     0.000054      -0.000006   \n",
      "\n",
      "   SDRR_REL_RR  RMSSD_REL_RR  SDSD_REL_RR  SDRR_RMSSD_REL_RR  KURT_REL_RR  \\\n",
      "0     0.012933      0.004578     0.004578           2.825038    -0.680262   \n",
      "1     0.025148      0.013921     0.013921           1.806517    -0.034454   \n",
      "2     0.015533      0.008149     0.008149           1.906180    -0.206953   \n",
      "3     0.016882      0.007587     0.007587           2.225116    -0.820407   \n",
      "4     0.013479      0.007811     0.007811           1.725606     1.738453   \n",
      "\n",
      "   SKEW_REL_RR                                  uuid  \n",
      "0    -0.233075  62b75db5-bc40-4c8f-9166-daf0efcab4c2  \n",
      "1    -0.051689  a99549ad-3eb6-4413-bc90-9053e7f7e684  \n",
      "2    -0.589940  cb573d3a-c767-4556-b32e-ad8c08ded214  \n",
      "3     0.487198  47a0c6de-2aef-4ac3-997d-252fa6fd07f1  \n",
      "4    -0.005082  de3fd54f-c74e-4fe8-bf2a-7a127f68b312   \n",
      "\n"
     ]
    }
   ],
   "source": [
    "# List of file paths\n",
    "files = [\n",
    "    '/home/gesture-queen/Desktop/EmulsifyFinal/StressPrictionDATAset/Train Data/Train Data Zip/frequency_domain_features_train.csv',\n",
    "    '/home/gesture-queen/Desktop/EmulsifyFinal/StressPrictionDATAset/Train Data/Train Data Zip/heart_rate_non_linear_features_train.csv',\n",
    "    '/home/gesture-queen/Desktop/EmulsifyFinal/StressPrictionDATAset/Train Data/Train Data Zip/time_domain_features_train.csv',\n",
    "    '/home/gesture-queen/Desktop/EmulsifyFinal/StressPrictionDATAset/Test Data/Test Zip/frequency_domain_features_test.csv',\n",
    "    '/home/gesture-queen/Desktop/EmulsifyFinal/StressPrictionDATAset/Test Data/Test Zip/heart_rate_non_linear_features_test.csv',\n",
    "    '/home/gesture-queen/Desktop/EmulsifyFinal/StressPrictionDATAset/Test Data/Test Zip/time_domain_features_test.csv'\n",
    "    ]\n",
    "\n",
    "# Loop to read and print the head of each CSV file\n",
    "for file_path in files:\n",
    "    print(f\"Displaying head of file: {file_path}\")\n",
    "    df = pd.read_csv(file_path)\n",
    "    print(df.head(), \"\\n\")"
   ]
  },
  {
   "cell_type": "code",
   "execution_count": 11,
   "metadata": {
    "execution": {
     "iopub.execute_input": "2024-11-09T15:49:58.972806Z",
     "iopub.status.busy": "2024-11-09T15:49:58.972332Z",
     "iopub.status.idle": "2024-11-09T15:49:58.989275Z",
     "shell.execute_reply": "2024-11-09T15:49:58.987919Z",
     "shell.execute_reply.started": "2024-11-09T15:49:58.972757Z"
    },
    "trusted": true
   },
   "outputs": [
    {
     "data": {
      "text/html": [
       "<div>\n",
       "<style scoped>\n",
       "    .dataframe tbody tr th:only-of-type {\n",
       "        vertical-align: middle;\n",
       "    }\n",
       "\n",
       "    .dataframe tbody tr th {\n",
       "        vertical-align: top;\n",
       "    }\n",
       "\n",
       "    .dataframe thead th {\n",
       "        text-align: right;\n",
       "    }\n",
       "</style>\n",
       "<table border=\"1\" class=\"dataframe\">\n",
       "  <thead>\n",
       "    <tr style=\"text-align: right;\">\n",
       "      <th></th>\n",
       "      <th>MEAN_RR</th>\n",
       "      <th>MEDIAN_RR</th>\n",
       "      <th>SDRR</th>\n",
       "      <th>RMSSD</th>\n",
       "      <th>SDSD</th>\n",
       "      <th>SDRR_RMSSD</th>\n",
       "      <th>pNN25</th>\n",
       "      <th>pNN50</th>\n",
       "      <th>KURT</th>\n",
       "      <th>SKEW</th>\n",
       "      <th>MEAN_REL_RR</th>\n",
       "      <th>MEDIAN_REL_RR</th>\n",
       "      <th>SDRR_REL_RR</th>\n",
       "      <th>RMSSD_REL_RR</th>\n",
       "      <th>SDSD_REL_RR</th>\n",
       "      <th>SDRR_RMSSD_REL_RR</th>\n",
       "      <th>KURT_REL_RR</th>\n",
       "      <th>SKEW_REL_RR</th>\n",
       "      <th>uuid</th>\n",
       "    </tr>\n",
       "  </thead>\n",
       "  <tbody>\n",
       "    <tr>\n",
       "      <th>0</th>\n",
       "      <td>934.665288</td>\n",
       "      <td>939.03173</td>\n",
       "      <td>82.139495</td>\n",
       "      <td>11.801781</td>\n",
       "      <td>11.801772</td>\n",
       "      <td>6.959924</td>\n",
       "      <td>3.933333</td>\n",
       "      <td>0.133333</td>\n",
       "      <td>-0.680262</td>\n",
       "      <td>-0.233075</td>\n",
       "      <td>0.000016</td>\n",
       "      <td>0.000288</td>\n",
       "      <td>0.012933</td>\n",
       "      <td>0.004578</td>\n",
       "      <td>0.004578</td>\n",
       "      <td>2.825038</td>\n",
       "      <td>-0.680262</td>\n",
       "      <td>-0.233075</td>\n",
       "      <td>62b75db5-bc40-4c8f-9166-daf0efcab4c2</td>\n",
       "    </tr>\n",
       "    <tr>\n",
       "      <th>1</th>\n",
       "      <td>817.062380</td>\n",
       "      <td>816.33879</td>\n",
       "      <td>55.492332</td>\n",
       "      <td>20.558810</td>\n",
       "      <td>20.558768</td>\n",
       "      <td>2.699200</td>\n",
       "      <td>24.600000</td>\n",
       "      <td>0.533333</td>\n",
       "      <td>-0.034454</td>\n",
       "      <td>-0.051689</td>\n",
       "      <td>0.000040</td>\n",
       "      <td>-0.002749</td>\n",
       "      <td>0.025148</td>\n",
       "      <td>0.013921</td>\n",
       "      <td>0.013921</td>\n",
       "      <td>1.806517</td>\n",
       "      <td>-0.034454</td>\n",
       "      <td>-0.051689</td>\n",
       "      <td>a99549ad-3eb6-4413-bc90-9053e7f7e684</td>\n",
       "    </tr>\n",
       "    <tr>\n",
       "      <th>2</th>\n",
       "      <td>876.762022</td>\n",
       "      <td>894.19889</td>\n",
       "      <td>88.690820</td>\n",
       "      <td>13.853737</td>\n",
       "      <td>13.853730</td>\n",
       "      <td>6.401942</td>\n",
       "      <td>7.066667</td>\n",
       "      <td>0.533333</td>\n",
       "      <td>-0.206953</td>\n",
       "      <td>-0.589940</td>\n",
       "      <td>0.000010</td>\n",
       "      <td>-0.000172</td>\n",
       "      <td>0.015533</td>\n",
       "      <td>0.008149</td>\n",
       "      <td>0.008149</td>\n",
       "      <td>1.906180</td>\n",
       "      <td>-0.206953</td>\n",
       "      <td>-0.589940</td>\n",
       "      <td>cb573d3a-c767-4556-b32e-ad8c08ded214</td>\n",
       "    </tr>\n",
       "    <tr>\n",
       "      <th>3</th>\n",
       "      <td>1038.640693</td>\n",
       "      <td>998.91429</td>\n",
       "      <td>213.725850</td>\n",
       "      <td>16.457194</td>\n",
       "      <td>16.454801</td>\n",
       "      <td>12.986774</td>\n",
       "      <td>10.800000</td>\n",
       "      <td>1.866667</td>\n",
       "      <td>-0.820407</td>\n",
       "      <td>0.487198</td>\n",
       "      <td>-0.000238</td>\n",
       "      <td>-0.000464</td>\n",
       "      <td>0.016882</td>\n",
       "      <td>0.007587</td>\n",
       "      <td>0.007587</td>\n",
       "      <td>2.225116</td>\n",
       "      <td>-0.820407</td>\n",
       "      <td>0.487198</td>\n",
       "      <td>47a0c6de-2aef-4ac3-997d-252fa6fd07f1</td>\n",
       "    </tr>\n",
       "    <tr>\n",
       "      <th>4</th>\n",
       "      <td>774.548508</td>\n",
       "      <td>778.90508</td>\n",
       "      <td>51.577855</td>\n",
       "      <td>10.273114</td>\n",
       "      <td>10.273049</td>\n",
       "      <td>5.020664</td>\n",
       "      <td>2.000000</td>\n",
       "      <td>0.066667</td>\n",
       "      <td>1.738453</td>\n",
       "      <td>-0.005082</td>\n",
       "      <td>0.000054</td>\n",
       "      <td>-0.000006</td>\n",
       "      <td>0.013479</td>\n",
       "      <td>0.007811</td>\n",
       "      <td>0.007811</td>\n",
       "      <td>1.725606</td>\n",
       "      <td>1.738453</td>\n",
       "      <td>-0.005082</td>\n",
       "      <td>de3fd54f-c74e-4fe8-bf2a-7a127f68b312</td>\n",
       "    </tr>\n",
       "  </tbody>\n",
       "</table>\n",
       "</div>"
      ],
      "text/plain": [
       "       MEAN_RR  MEDIAN_RR        SDRR      RMSSD       SDSD  SDRR_RMSSD  \\\n",
       "0   934.665288  939.03173   82.139495  11.801781  11.801772    6.959924   \n",
       "1   817.062380  816.33879   55.492332  20.558810  20.558768    2.699200   \n",
       "2   876.762022  894.19889   88.690820  13.853737  13.853730    6.401942   \n",
       "3  1038.640693  998.91429  213.725850  16.457194  16.454801   12.986774   \n",
       "4   774.548508  778.90508   51.577855  10.273114  10.273049    5.020664   \n",
       "\n",
       "       pNN25     pNN50      KURT      SKEW  MEAN_REL_RR  MEDIAN_REL_RR  \\\n",
       "0   3.933333  0.133333 -0.680262 -0.233075     0.000016       0.000288   \n",
       "1  24.600000  0.533333 -0.034454 -0.051689     0.000040      -0.002749   \n",
       "2   7.066667  0.533333 -0.206953 -0.589940     0.000010      -0.000172   \n",
       "3  10.800000  1.866667 -0.820407  0.487198    -0.000238      -0.000464   \n",
       "4   2.000000  0.066667  1.738453 -0.005082     0.000054      -0.000006   \n",
       "\n",
       "   SDRR_REL_RR  RMSSD_REL_RR  SDSD_REL_RR  SDRR_RMSSD_REL_RR  KURT_REL_RR  \\\n",
       "0     0.012933      0.004578     0.004578           2.825038    -0.680262   \n",
       "1     0.025148      0.013921     0.013921           1.806517    -0.034454   \n",
       "2     0.015533      0.008149     0.008149           1.906180    -0.206953   \n",
       "3     0.016882      0.007587     0.007587           2.225116    -0.820407   \n",
       "4     0.013479      0.007811     0.007811           1.725606     1.738453   \n",
       "\n",
       "   SKEW_REL_RR                                  uuid  \n",
       "0    -0.233075  62b75db5-bc40-4c8f-9166-daf0efcab4c2  \n",
       "1    -0.051689  a99549ad-3eb6-4413-bc90-9053e7f7e684  \n",
       "2    -0.589940  cb573d3a-c767-4556-b32e-ad8c08ded214  \n",
       "3     0.487198  47a0c6de-2aef-4ac3-997d-252fa6fd07f1  \n",
       "4    -0.005082  de3fd54f-c74e-4fe8-bf2a-7a127f68b312  "
      ]
     },
     "execution_count": 11,
     "metadata": {},
     "output_type": "execute_result"
    }
   ],
   "source": [
    "df.head()"
   ]
  },
  {
   "cell_type": "code",
   "execution_count": 12,
   "metadata": {
    "execution": {
     "iopub.execute_input": "2024-11-09T15:50:01.168655Z",
     "iopub.status.busy": "2024-11-09T15:50:01.168183Z",
     "iopub.status.idle": "2024-11-09T15:50:01.320443Z",
     "shell.execute_reply": "2024-11-09T15:50:01.318874Z",
     "shell.execute_reply.started": "2024-11-09T15:50:01.168613Z"
    },
    "trusted": true
   },
   "outputs": [
    {
     "name": "stdout",
     "output_type": "stream",
     "text": [
      "Label mapping in training set:\n",
      "interruption: 0\n",
      "no stress: 1\n",
      "time pressure: 2\n",
      "Shape of the combined train dataset: (369289, 39)\n",
      "      MEAN_RR   MEDIAN_RR        SDRR      RMSSD       SDSD  SDRR_RMSSD  \\\n",
      "0  885.157845  853.763730  140.972741  15.554505  15.553371    9.063146   \n",
      "1  939.425371  948.357865   81.317742  12.964439  12.964195    6.272369   \n",
      "2  898.186047  907.006860   84.497236  16.305279  16.305274    5.182201   \n",
      "3  881.757865  893.460030   90.370537  15.720468  15.720068    5.748591   \n",
      "4  809.625331  811.184865   62.766242  19.213819  19.213657    3.266724   \n",
      "\n",
      "          HR      pNN25     pNN50      KURT  ...           TP       LF_HF  \\\n",
      "0  69.499952  11.133333  0.533333 -0.856554  ...  3686.666157   65.018055   \n",
      "1  64.363150   5.600000  0.000000 -0.408190  ...  3006.487251  327.296635   \n",
      "2  67.450066  13.066667  0.200000  0.351789  ...  2685.879461   94.280910   \n",
      "3  68.809562  11.800000  0.133333 -0.504947  ...  3434.520980   55.328701   \n",
      "4  74.565728  20.200000  0.200000 -0.548408  ...  2621.175204   29.487873   \n",
      "\n",
      "      HF_LF                                  uuid        SD1         SD2  \\\n",
      "0  0.015380  89df2855-56eb-4706-a23b-b39363dd605a  11.001565  199.061782   \n",
      "1  0.003055  80c795e4-aa56-4cc0-939c-19634b89cbb2   9.170129  114.634458   \n",
      "2  0.010607  c2d5d102-967c-487d-88f2-8b005a449f3e  11.533417  118.939253   \n",
      "3  0.018074  37eabc44-1349-4040-8896-0d113ad4811f  11.119476  127.318597   \n",
      "4  0.033912  aa777a6a-7aa3-4f6e-aced-70f8691dd2b7  13.590641   87.718281   \n",
      "\n",
      "     sampen    higuci  datasetId condition  \n",
      "0  2.139754  1.163485          2         1  \n",
      "1  2.174499  1.084711          2         0  \n",
      "2  2.135350  1.176315          2         0  \n",
      "3  2.178341  1.179688          2         1  \n",
      "4  2.221121  1.249612          2         1  \n",
      "\n",
      "[5 rows x 39 columns]\n"
     ]
    }
   ],
   "source": [
    "from sklearn.preprocessing import LabelEncoder\n",
    "\n",
    "# Combine the training datasets into one, removing any duplicate columns\n",
    "combined_train = pd.concat([time_domain_train, frequency_domain_train, non_linear_features_train], axis=1)\n",
    "\n",
    "\n",
    "\n",
    "# Apply LabelEncoder to the 'condition' column in the training dataset\n",
    "le_train = LabelEncoder()\n",
    "combined_train['condition'] = le_train.fit_transform(combined_train['condition'])\n",
    "\n",
    "# Check the mapping of labels to integers in the training set\n",
    "print(\"Label mapping in training set:\")\n",
    "for index, label in enumerate(le_train.classes_):\n",
    "    print(f\"{label}: {index}\")\n",
    "\n",
    "# Check the final training dataset\n",
    "print(\"Shape of the combined train dataset:\", combined_train.shape)\n",
    "print(combined_train.head())"
   ]
  },
  {
   "cell_type": "code",
   "execution_count": 13,
   "metadata": {
    "execution": {
     "iopub.execute_input": "2024-11-09T15:50:03.569462Z",
     "iopub.status.busy": "2024-11-09T15:50:03.568420Z",
     "iopub.status.idle": "2024-11-09T15:50:03.598338Z",
     "shell.execute_reply": "2024-11-09T15:50:03.597087Z",
     "shell.execute_reply.started": "2024-11-09T15:50:03.569416Z"
    },
    "trusted": true
   },
   "outputs": [
    {
     "data": {
      "text/html": [
       "<div>\n",
       "<style scoped>\n",
       "    .dataframe tbody tr th:only-of-type {\n",
       "        vertical-align: middle;\n",
       "    }\n",
       "\n",
       "    .dataframe tbody tr th {\n",
       "        vertical-align: top;\n",
       "    }\n",
       "\n",
       "    .dataframe thead th {\n",
       "        text-align: right;\n",
       "    }\n",
       "</style>\n",
       "<table border=\"1\" class=\"dataframe\">\n",
       "  <thead>\n",
       "    <tr style=\"text-align: right;\">\n",
       "      <th></th>\n",
       "      <th>MEAN_RR</th>\n",
       "      <th>MEDIAN_RR</th>\n",
       "      <th>SDRR</th>\n",
       "      <th>RMSSD</th>\n",
       "      <th>SDSD</th>\n",
       "      <th>SDRR_RMSSD</th>\n",
       "      <th>HR</th>\n",
       "      <th>pNN25</th>\n",
       "      <th>pNN50</th>\n",
       "      <th>KURT</th>\n",
       "      <th>...</th>\n",
       "      <th>TP</th>\n",
       "      <th>LF_HF</th>\n",
       "      <th>HF_LF</th>\n",
       "      <th>uuid</th>\n",
       "      <th>SD1</th>\n",
       "      <th>SD2</th>\n",
       "      <th>sampen</th>\n",
       "      <th>higuci</th>\n",
       "      <th>datasetId</th>\n",
       "      <th>condition</th>\n",
       "    </tr>\n",
       "  </thead>\n",
       "  <tbody>\n",
       "    <tr>\n",
       "      <th>0</th>\n",
       "      <td>885.157845</td>\n",
       "      <td>853.763730</td>\n",
       "      <td>140.972741</td>\n",
       "      <td>15.554505</td>\n",
       "      <td>15.553371</td>\n",
       "      <td>9.063146</td>\n",
       "      <td>69.499952</td>\n",
       "      <td>11.133333</td>\n",
       "      <td>0.533333</td>\n",
       "      <td>-0.856554</td>\n",
       "      <td>...</td>\n",
       "      <td>3686.666157</td>\n",
       "      <td>65.018055</td>\n",
       "      <td>0.015380</td>\n",
       "      <td>89df2855-56eb-4706-a23b-b39363dd605a</td>\n",
       "      <td>11.001565</td>\n",
       "      <td>199.061782</td>\n",
       "      <td>2.139754</td>\n",
       "      <td>1.163485</td>\n",
       "      <td>2</td>\n",
       "      <td>1</td>\n",
       "    </tr>\n",
       "    <tr>\n",
       "      <th>1</th>\n",
       "      <td>939.425371</td>\n",
       "      <td>948.357865</td>\n",
       "      <td>81.317742</td>\n",
       "      <td>12.964439</td>\n",
       "      <td>12.964195</td>\n",
       "      <td>6.272369</td>\n",
       "      <td>64.363150</td>\n",
       "      <td>5.600000</td>\n",
       "      <td>0.000000</td>\n",
       "      <td>-0.408190</td>\n",
       "      <td>...</td>\n",
       "      <td>3006.487251</td>\n",
       "      <td>327.296635</td>\n",
       "      <td>0.003055</td>\n",
       "      <td>80c795e4-aa56-4cc0-939c-19634b89cbb2</td>\n",
       "      <td>9.170129</td>\n",
       "      <td>114.634458</td>\n",
       "      <td>2.174499</td>\n",
       "      <td>1.084711</td>\n",
       "      <td>2</td>\n",
       "      <td>0</td>\n",
       "    </tr>\n",
       "    <tr>\n",
       "      <th>2</th>\n",
       "      <td>898.186047</td>\n",
       "      <td>907.006860</td>\n",
       "      <td>84.497236</td>\n",
       "      <td>16.305279</td>\n",
       "      <td>16.305274</td>\n",
       "      <td>5.182201</td>\n",
       "      <td>67.450066</td>\n",
       "      <td>13.066667</td>\n",
       "      <td>0.200000</td>\n",
       "      <td>0.351789</td>\n",
       "      <td>...</td>\n",
       "      <td>2685.879461</td>\n",
       "      <td>94.280910</td>\n",
       "      <td>0.010607</td>\n",
       "      <td>c2d5d102-967c-487d-88f2-8b005a449f3e</td>\n",
       "      <td>11.533417</td>\n",
       "      <td>118.939253</td>\n",
       "      <td>2.135350</td>\n",
       "      <td>1.176315</td>\n",
       "      <td>2</td>\n",
       "      <td>0</td>\n",
       "    </tr>\n",
       "    <tr>\n",
       "      <th>3</th>\n",
       "      <td>881.757865</td>\n",
       "      <td>893.460030</td>\n",
       "      <td>90.370537</td>\n",
       "      <td>15.720468</td>\n",
       "      <td>15.720068</td>\n",
       "      <td>5.748591</td>\n",
       "      <td>68.809562</td>\n",
       "      <td>11.800000</td>\n",
       "      <td>0.133333</td>\n",
       "      <td>-0.504947</td>\n",
       "      <td>...</td>\n",
       "      <td>3434.520980</td>\n",
       "      <td>55.328701</td>\n",
       "      <td>0.018074</td>\n",
       "      <td>37eabc44-1349-4040-8896-0d113ad4811f</td>\n",
       "      <td>11.119476</td>\n",
       "      <td>127.318597</td>\n",
       "      <td>2.178341</td>\n",
       "      <td>1.179688</td>\n",
       "      <td>2</td>\n",
       "      <td>1</td>\n",
       "    </tr>\n",
       "    <tr>\n",
       "      <th>4</th>\n",
       "      <td>809.625331</td>\n",
       "      <td>811.184865</td>\n",
       "      <td>62.766242</td>\n",
       "      <td>19.213819</td>\n",
       "      <td>19.213657</td>\n",
       "      <td>3.266724</td>\n",
       "      <td>74.565728</td>\n",
       "      <td>20.200000</td>\n",
       "      <td>0.200000</td>\n",
       "      <td>-0.548408</td>\n",
       "      <td>...</td>\n",
       "      <td>2621.175204</td>\n",
       "      <td>29.487873</td>\n",
       "      <td>0.033912</td>\n",
       "      <td>aa777a6a-7aa3-4f6e-aced-70f8691dd2b7</td>\n",
       "      <td>13.590641</td>\n",
       "      <td>87.718281</td>\n",
       "      <td>2.221121</td>\n",
       "      <td>1.249612</td>\n",
       "      <td>2</td>\n",
       "      <td>1</td>\n",
       "    </tr>\n",
       "  </tbody>\n",
       "</table>\n",
       "<p>5 rows × 39 columns</p>\n",
       "</div>"
      ],
      "text/plain": [
       "      MEAN_RR   MEDIAN_RR        SDRR      RMSSD       SDSD  SDRR_RMSSD  \\\n",
       "0  885.157845  853.763730  140.972741  15.554505  15.553371    9.063146   \n",
       "1  939.425371  948.357865   81.317742  12.964439  12.964195    6.272369   \n",
       "2  898.186047  907.006860   84.497236  16.305279  16.305274    5.182201   \n",
       "3  881.757865  893.460030   90.370537  15.720468  15.720068    5.748591   \n",
       "4  809.625331  811.184865   62.766242  19.213819  19.213657    3.266724   \n",
       "\n",
       "          HR      pNN25     pNN50      KURT  ...           TP       LF_HF  \\\n",
       "0  69.499952  11.133333  0.533333 -0.856554  ...  3686.666157   65.018055   \n",
       "1  64.363150   5.600000  0.000000 -0.408190  ...  3006.487251  327.296635   \n",
       "2  67.450066  13.066667  0.200000  0.351789  ...  2685.879461   94.280910   \n",
       "3  68.809562  11.800000  0.133333 -0.504947  ...  3434.520980   55.328701   \n",
       "4  74.565728  20.200000  0.200000 -0.548408  ...  2621.175204   29.487873   \n",
       "\n",
       "      HF_LF                                  uuid        SD1         SD2  \\\n",
       "0  0.015380  89df2855-56eb-4706-a23b-b39363dd605a  11.001565  199.061782   \n",
       "1  0.003055  80c795e4-aa56-4cc0-939c-19634b89cbb2   9.170129  114.634458   \n",
       "2  0.010607  c2d5d102-967c-487d-88f2-8b005a449f3e  11.533417  118.939253   \n",
       "3  0.018074  37eabc44-1349-4040-8896-0d113ad4811f  11.119476  127.318597   \n",
       "4  0.033912  aa777a6a-7aa3-4f6e-aced-70f8691dd2b7  13.590641   87.718281   \n",
       "\n",
       "     sampen    higuci  datasetId condition  \n",
       "0  2.139754  1.163485          2         1  \n",
       "1  2.174499  1.084711          2         0  \n",
       "2  2.135350  1.176315          2         0  \n",
       "3  2.178341  1.179688          2         1  \n",
       "4  2.221121  1.249612          2         1  \n",
       "\n",
       "[5 rows x 39 columns]"
      ]
     },
     "execution_count": 13,
     "metadata": {},
     "output_type": "execute_result"
    }
   ],
   "source": [
    "combined_train.head()"
   ]
  },
  {
   "cell_type": "code",
   "execution_count": 14,
   "metadata": {
    "execution": {
     "iopub.execute_input": "2024-11-09T15:50:08.768585Z",
     "iopub.status.busy": "2024-11-09T15:50:08.768134Z",
     "iopub.status.idle": "2024-11-09T15:50:08.809819Z",
     "shell.execute_reply": "2024-11-09T15:50:08.808239Z",
     "shell.execute_reply.started": "2024-11-09T15:50:08.768546Z"
    },
    "trusted": true
   },
   "outputs": [
    {
     "name": "stdout",
     "output_type": "stream",
     "text": [
      "\n",
      "Label mapping in test set:\n",
      "interruption: 0\n",
      "no stress: 1\n",
      "time pressure: 2\n",
      "Shape of the combined test dataset: (41033, 36)\n",
      "       MEAN_RR  MEDIAN_RR        SDRR      RMSSD       SDSD  SDRR_RMSSD  \\\n",
      "0   934.665288  939.03173   82.139495  11.801781  11.801772    6.959924   \n",
      "1   817.062380  816.33879   55.492332  20.558810  20.558768    2.699200   \n",
      "2   876.762022  894.19889   88.690820  13.853737  13.853730    6.401942   \n",
      "3  1038.640693  998.91429  213.725850  16.457194  16.454801   12.986774   \n",
      "4   774.548508  778.90508   51.577855  10.273114  10.273049    5.020664   \n",
      "\n",
      "       pNN25     pNN50      KURT      SKEW  ...     HF_NU           TP  \\\n",
      "0   3.933333  0.133333 -0.680262 -0.233075  ...  0.521803  2442.168645   \n",
      "1  24.600000  0.533333 -0.034454 -0.051689  ...  2.490788  2162.409316   \n",
      "2   7.066667  0.533333 -0.206953 -0.589940  ...  2.170614  2771.583978   \n",
      "3  10.800000  1.866667 -0.820407  0.487198  ...  1.182194  6357.550689   \n",
      "4   2.000000  0.066667  1.738453 -0.005082  ...  8.194943  1373.104689   \n",
      "\n",
      "        LF_HF     HF_LF        SD1         SD2    sampen    higuci datasetId  \\\n",
      "0  190.643094  0.005245   8.347898  115.862444  2.209659  1.100715         2   \n",
      "1   39.147940  0.025544  14.542096   77.118903  2.186132  1.290615         2   \n",
      "2   45.069921  0.022188   9.799336  125.044377  2.051571  1.226663         2   \n",
      "3   83.588517  0.011963  11.639185  302.029812  2.080910  1.085143         2   \n",
      "4   11.202647  0.089265   7.266567   72.579248  2.068728  1.252547         2   \n",
      "\n",
      "   condition  \n",
      "0          2  \n",
      "1          1  \n",
      "2          1  \n",
      "3          2  \n",
      "4          0  \n",
      "\n",
      "[5 rows x 36 columns]\n"
     ]
    }
   ],
   "source": [
    "# Combine the test datasets into one, removing any duplicate columns\n",
    "combined_test = pd.concat([time_domain_test, frequency_domain_test, non_linear_features_test], axis=1)\n",
    "\n",
    "# Remove duplicate columns (if any)\n",
    "combined_test = combined_test.loc[:, ~combined_test.columns.duplicated()]\n",
    "\n",
    "# Apply LabelEncoder to the 'condition' column in the test dataset\n",
    "le_test = LabelEncoder()\n",
    "combined_test['condition'] = le_test.fit_transform(combined_test['condition'])\n",
    "\n",
    "# Check the mapping of labels to integers in the test set\n",
    "print(\"\\nLabel mapping in test set:\")\n",
    "for index, label in enumerate(le_test.classes_):\n",
    "    print(f\"{label}: {index}\")\n",
    "\n",
    "# Check the final test dataset\n",
    "print(\"Shape of the combined test dataset:\", combined_test.shape)\n",
    "print(combined_test.head())"
   ]
  },
  {
   "cell_type": "code",
   "execution_count": 15,
   "metadata": {
    "execution": {
     "iopub.execute_input": "2024-11-09T15:50:10.630609Z",
     "iopub.status.busy": "2024-11-09T15:50:10.630171Z",
     "iopub.status.idle": "2024-11-09T15:50:10.663560Z",
     "shell.execute_reply": "2024-11-09T15:50:10.662224Z",
     "shell.execute_reply.started": "2024-11-09T15:50:10.630572Z"
    },
    "trusted": true
   },
   "outputs": [
    {
     "data": {
      "text/html": [
       "<div>\n",
       "<style scoped>\n",
       "    .dataframe tbody tr th:only-of-type {\n",
       "        vertical-align: middle;\n",
       "    }\n",
       "\n",
       "    .dataframe tbody tr th {\n",
       "        vertical-align: top;\n",
       "    }\n",
       "\n",
       "    .dataframe thead th {\n",
       "        text-align: right;\n",
       "    }\n",
       "</style>\n",
       "<table border=\"1\" class=\"dataframe\">\n",
       "  <thead>\n",
       "    <tr style=\"text-align: right;\">\n",
       "      <th></th>\n",
       "      <th>MEAN_RR</th>\n",
       "      <th>MEDIAN_RR</th>\n",
       "      <th>SDRR</th>\n",
       "      <th>RMSSD</th>\n",
       "      <th>SDSD</th>\n",
       "      <th>SDRR_RMSSD</th>\n",
       "      <th>pNN25</th>\n",
       "      <th>pNN50</th>\n",
       "      <th>KURT</th>\n",
       "      <th>SKEW</th>\n",
       "      <th>...</th>\n",
       "      <th>HF_NU</th>\n",
       "      <th>TP</th>\n",
       "      <th>LF_HF</th>\n",
       "      <th>HF_LF</th>\n",
       "      <th>SD1</th>\n",
       "      <th>SD2</th>\n",
       "      <th>sampen</th>\n",
       "      <th>higuci</th>\n",
       "      <th>datasetId</th>\n",
       "      <th>condition</th>\n",
       "    </tr>\n",
       "  </thead>\n",
       "  <tbody>\n",
       "    <tr>\n",
       "      <th>0</th>\n",
       "      <td>934.665288</td>\n",
       "      <td>939.03173</td>\n",
       "      <td>82.139495</td>\n",
       "      <td>11.801781</td>\n",
       "      <td>11.801772</td>\n",
       "      <td>6.959924</td>\n",
       "      <td>3.933333</td>\n",
       "      <td>0.133333</td>\n",
       "      <td>-0.680262</td>\n",
       "      <td>-0.233075</td>\n",
       "      <td>...</td>\n",
       "      <td>0.521803</td>\n",
       "      <td>2442.168645</td>\n",
       "      <td>190.643094</td>\n",
       "      <td>0.005245</td>\n",
       "      <td>8.347898</td>\n",
       "      <td>115.862444</td>\n",
       "      <td>2.209659</td>\n",
       "      <td>1.100715</td>\n",
       "      <td>2</td>\n",
       "      <td>2</td>\n",
       "    </tr>\n",
       "    <tr>\n",
       "      <th>1</th>\n",
       "      <td>817.062380</td>\n",
       "      <td>816.33879</td>\n",
       "      <td>55.492332</td>\n",
       "      <td>20.558810</td>\n",
       "      <td>20.558768</td>\n",
       "      <td>2.699200</td>\n",
       "      <td>24.600000</td>\n",
       "      <td>0.533333</td>\n",
       "      <td>-0.034454</td>\n",
       "      <td>-0.051689</td>\n",
       "      <td>...</td>\n",
       "      <td>2.490788</td>\n",
       "      <td>2162.409316</td>\n",
       "      <td>39.147940</td>\n",
       "      <td>0.025544</td>\n",
       "      <td>14.542096</td>\n",
       "      <td>77.118903</td>\n",
       "      <td>2.186132</td>\n",
       "      <td>1.290615</td>\n",
       "      <td>2</td>\n",
       "      <td>1</td>\n",
       "    </tr>\n",
       "    <tr>\n",
       "      <th>2</th>\n",
       "      <td>876.762022</td>\n",
       "      <td>894.19889</td>\n",
       "      <td>88.690820</td>\n",
       "      <td>13.853737</td>\n",
       "      <td>13.853730</td>\n",
       "      <td>6.401942</td>\n",
       "      <td>7.066667</td>\n",
       "      <td>0.533333</td>\n",
       "      <td>-0.206953</td>\n",
       "      <td>-0.589940</td>\n",
       "      <td>...</td>\n",
       "      <td>2.170614</td>\n",
       "      <td>2771.583978</td>\n",
       "      <td>45.069921</td>\n",
       "      <td>0.022188</td>\n",
       "      <td>9.799336</td>\n",
       "      <td>125.044377</td>\n",
       "      <td>2.051571</td>\n",
       "      <td>1.226663</td>\n",
       "      <td>2</td>\n",
       "      <td>1</td>\n",
       "    </tr>\n",
       "    <tr>\n",
       "      <th>3</th>\n",
       "      <td>1038.640693</td>\n",
       "      <td>998.91429</td>\n",
       "      <td>213.725850</td>\n",
       "      <td>16.457194</td>\n",
       "      <td>16.454801</td>\n",
       "      <td>12.986774</td>\n",
       "      <td>10.800000</td>\n",
       "      <td>1.866667</td>\n",
       "      <td>-0.820407</td>\n",
       "      <td>0.487198</td>\n",
       "      <td>...</td>\n",
       "      <td>1.182194</td>\n",
       "      <td>6357.550689</td>\n",
       "      <td>83.588517</td>\n",
       "      <td>0.011963</td>\n",
       "      <td>11.639185</td>\n",
       "      <td>302.029812</td>\n",
       "      <td>2.080910</td>\n",
       "      <td>1.085143</td>\n",
       "      <td>2</td>\n",
       "      <td>2</td>\n",
       "    </tr>\n",
       "    <tr>\n",
       "      <th>4</th>\n",
       "      <td>774.548508</td>\n",
       "      <td>778.90508</td>\n",
       "      <td>51.577855</td>\n",
       "      <td>10.273114</td>\n",
       "      <td>10.273049</td>\n",
       "      <td>5.020664</td>\n",
       "      <td>2.000000</td>\n",
       "      <td>0.066667</td>\n",
       "      <td>1.738453</td>\n",
       "      <td>-0.005082</td>\n",
       "      <td>...</td>\n",
       "      <td>8.194943</td>\n",
       "      <td>1373.104689</td>\n",
       "      <td>11.202647</td>\n",
       "      <td>0.089265</td>\n",
       "      <td>7.266567</td>\n",
       "      <td>72.579248</td>\n",
       "      <td>2.068728</td>\n",
       "      <td>1.252547</td>\n",
       "      <td>2</td>\n",
       "      <td>0</td>\n",
       "    </tr>\n",
       "  </tbody>\n",
       "</table>\n",
       "<p>5 rows × 36 columns</p>\n",
       "</div>"
      ],
      "text/plain": [
       "       MEAN_RR  MEDIAN_RR        SDRR      RMSSD       SDSD  SDRR_RMSSD  \\\n",
       "0   934.665288  939.03173   82.139495  11.801781  11.801772    6.959924   \n",
       "1   817.062380  816.33879   55.492332  20.558810  20.558768    2.699200   \n",
       "2   876.762022  894.19889   88.690820  13.853737  13.853730    6.401942   \n",
       "3  1038.640693  998.91429  213.725850  16.457194  16.454801   12.986774   \n",
       "4   774.548508  778.90508   51.577855  10.273114  10.273049    5.020664   \n",
       "\n",
       "       pNN25     pNN50      KURT      SKEW  ...     HF_NU           TP  \\\n",
       "0   3.933333  0.133333 -0.680262 -0.233075  ...  0.521803  2442.168645   \n",
       "1  24.600000  0.533333 -0.034454 -0.051689  ...  2.490788  2162.409316   \n",
       "2   7.066667  0.533333 -0.206953 -0.589940  ...  2.170614  2771.583978   \n",
       "3  10.800000  1.866667 -0.820407  0.487198  ...  1.182194  6357.550689   \n",
       "4   2.000000  0.066667  1.738453 -0.005082  ...  8.194943  1373.104689   \n",
       "\n",
       "        LF_HF     HF_LF        SD1         SD2    sampen    higuci datasetId  \\\n",
       "0  190.643094  0.005245   8.347898  115.862444  2.209659  1.100715         2   \n",
       "1   39.147940  0.025544  14.542096   77.118903  2.186132  1.290615         2   \n",
       "2   45.069921  0.022188   9.799336  125.044377  2.051571  1.226663         2   \n",
       "3   83.588517  0.011963  11.639185  302.029812  2.080910  1.085143         2   \n",
       "4   11.202647  0.089265   7.266567   72.579248  2.068728  1.252547         2   \n",
       "\n",
       "   condition  \n",
       "0          2  \n",
       "1          1  \n",
       "2          1  \n",
       "3          2  \n",
       "4          0  \n",
       "\n",
       "[5 rows x 36 columns]"
      ]
     },
     "execution_count": 15,
     "metadata": {},
     "output_type": "execute_result"
    }
   ],
   "source": [
    "combined_test.head()"
   ]
  },
  {
   "cell_type": "code",
   "execution_count": 16,
   "metadata": {
    "execution": {
     "iopub.execute_input": "2024-11-09T15:50:11.997542Z",
     "iopub.status.busy": "2024-11-09T15:50:11.996970Z",
     "iopub.status.idle": "2024-11-09T15:50:12.005537Z",
     "shell.execute_reply": "2024-11-09T15:50:12.004049Z",
     "shell.execute_reply.started": "2024-11-09T15:50:11.997493Z"
    },
    "trusted": true
   },
   "outputs": [
    {
     "name": "stdout",
     "output_type": "stream",
     "text": [
      "Columns in the training set but not in the test set: {'HR'}\n"
     ]
    }
   ],
   "source": [
    "# Get the column names from the train and test datasets\n",
    "train_columns = set(combined_train.columns)\n",
    "test_columns = set(combined_test.columns)\n",
    "\n",
    "# Find the columns that are in the training set but not in the test set\n",
    "extra_columns_in_train = train_columns - test_columns\n",
    "\n",
    "# Display the result\n",
    "print(\"Columns in the training set but not in the test set:\", extra_columns_in_train)"
   ]
  },
  {
   "cell_type": "code",
   "execution_count": 17,
   "metadata": {
    "execution": {
     "iopub.execute_input": "2024-11-09T15:50:14.170905Z",
     "iopub.status.busy": "2024-11-09T15:50:14.170437Z",
     "iopub.status.idle": "2024-11-09T15:50:14.244109Z",
     "shell.execute_reply": "2024-11-09T15:50:14.242781Z",
     "shell.execute_reply.started": "2024-11-09T15:50:14.170861Z"
    },
    "trusted": true
   },
   "outputs": [
    {
     "name": "stdout",
     "output_type": "stream",
     "text": [
      "Shape of the training set after removing 'HR': (369289, 38)\n"
     ]
    }
   ],
   "source": [
    "# Remove the 'HR' column from the training dataset\n",
    "combined_train = combined_train.drop(columns=['HR'])\n",
    "\n",
    "# Check the new shape of the training dataset after removing the 'HR' column\n",
    "print(\"Shape of the training set after removing 'HR':\", combined_train.shape)\n"
   ]
  },
  {
   "cell_type": "markdown",
   "metadata": {},
   "source": [
    "### Removing the 'HR' Column from the Training Set\n",
    "\n",
    "In the training dataset, there is an additional column called `'HR'` (Heart Rate), which is not present in the test dataset. To ensure compatibility between the training and test datasets, we need to remove this column from the training set. This step ensures that both datasets have the same features and can be used consistently in the model without causing any issues."
   ]
  },
  {
   "cell_type": "code",
   "execution_count": 18,
   "metadata": {
    "execution": {
     "iopub.execute_input": "2024-11-09T15:50:17.991629Z",
     "iopub.status.busy": "2024-11-09T15:50:17.991183Z",
     "iopub.status.idle": "2024-11-09T15:50:17.998152Z",
     "shell.execute_reply": "2024-11-09T15:50:17.996654Z",
     "shell.execute_reply.started": "2024-11-09T15:50:17.991591Z"
    },
    "trusted": true
   },
   "outputs": [],
   "source": [
    "#Update the name\n",
    "df = combined_train\n",
    "\n",
    "# Define the target label\n",
    "label = ['condition']\n",
    "\n",
    "# Define the features to be used for model training\n",
    "features = ['MEAN_RR','RMSSD','pNN25','pNN50','LF','HF','LF_HF']"
   ]
  },
  {
   "cell_type": "markdown",
   "metadata": {},
   "source": [
    "### Why These Features and Not the Others?\n",
    "\n",
    "The selected features—**MEAN_RR**, **RMSSD**, **pNN25**, **pNN50**, **LF**, **HF**, and **LF/HF**—are chosen based on their established relevance in predicting stress levels and heart rate variability (HRV) analysis. Here’s why we focus on these specific features instead of others:\n",
    "\n",
    "- **MEAN_RR**: This feature provides a direct measurement of the heart rate, making it a foundational variable for understanding heart rate variability. It's a simple but essential baseline for analyzing the stress response.\n",
    "\n",
    "- **RMSSD**: This feature is a widely recognized marker of parasympathetic nervous system activity, which plays a vital role in stress regulation. RMSSD is a reliable indicator of short-term HRV and recovery from stress.\n",
    "\n",
    "- **pNN25** and **pNN50**: These are measures of the proportion of heartbeats that differ by more than 25ms and 50ms, respectively. They give us insight into the variability in heart rate, which is directly linked to stress levels. Higher variability is usually associated with better cardiovascular health and lower stress.\n",
    "\n",
    "- **LF (Low Frequency)** and **HF (High Frequency)**: These frequency-domain features are standard in HRV analysis. **LF** reflects both sympathetic and parasympathetic influences on heart rate, while **HF** is primarily related to parasympathetic activity. They are critical in distinguishing between relaxed and stressed states.\n",
    "\n",
    "- **LF/HF Ratio**: This ratio is crucial in understanding the balance between sympathetic (stress-related) and parasympathetic (recovery-related) activity. A higher LF/HF ratio generally indicates greater stress, while a lower ratio suggests relaxation.\n",
    "\n",
    "#### Why Not the Other Features?\n",
    "\n",
    "Other features in the dataset, while potentially informative, are not as directly tied to stress prediction in the context of HRV:\n",
    "\n",
    "- **Kurtosis** and **Skew**: These statistical measures of distribution provide insight into data asymmetry but are not as relevant to physiological stress responses as RMSSD or LF/HF.\n",
    "  \n",
    "- **VLF (Very Low Frequency)**: While **VLF** can be informative, it is less commonly used in short-term stress analysis because it reflects very long-term regulatory mechanisms that may not capture acute stress responses.\n",
    "\n",
    "- **Sampen** and **Higuchi Fractal Dimension**: While these nonlinear features provide information on the complexity and irregularity of heart rate dynamics, they are more specialized and may not provide as much value in a standard HRV stress prediction model.\n",
    "\n",
    "Thus, we focus on features that are more directly linked to heart rate variability and stress, allowing for a more interpretable and efficient model.\n"
   ]
  },
  {
   "cell_type": "code",
   "execution_count": 19,
   "metadata": {
    "execution": {
     "iopub.execute_input": "2024-11-09T15:50:21.586524Z",
     "iopub.status.busy": "2024-11-09T15:50:21.586100Z",
     "iopub.status.idle": "2024-11-09T15:50:21.613438Z",
     "shell.execute_reply": "2024-11-09T15:50:21.611966Z",
     "shell.execute_reply.started": "2024-11-09T15:50:21.586486Z"
    },
    "trusted": true
   },
   "outputs": [
    {
     "data": {
      "text/html": [
       "<div>\n",
       "<style scoped>\n",
       "    .dataframe tbody tr th:only-of-type {\n",
       "        vertical-align: middle;\n",
       "    }\n",
       "\n",
       "    .dataframe tbody tr th {\n",
       "        vertical-align: top;\n",
       "    }\n",
       "\n",
       "    .dataframe thead th {\n",
       "        text-align: right;\n",
       "    }\n",
       "</style>\n",
       "<table border=\"1\" class=\"dataframe\">\n",
       "  <thead>\n",
       "    <tr style=\"text-align: right;\">\n",
       "      <th></th>\n",
       "      <th>MEAN_RR</th>\n",
       "      <th>RMSSD</th>\n",
       "      <th>pNN25</th>\n",
       "      <th>pNN50</th>\n",
       "      <th>LF</th>\n",
       "      <th>HF</th>\n",
       "      <th>LF_HF</th>\n",
       "    </tr>\n",
       "  </thead>\n",
       "  <tbody>\n",
       "    <tr>\n",
       "      <th>0</th>\n",
       "      <td>885.157845</td>\n",
       "      <td>15.554505</td>\n",
       "      <td>11.133333</td>\n",
       "      <td>0.533333</td>\n",
       "      <td>1009.249419</td>\n",
       "      <td>15.522603</td>\n",
       "      <td>65.018055</td>\n",
       "    </tr>\n",
       "    <tr>\n",
       "      <th>1</th>\n",
       "      <td>939.425371</td>\n",
       "      <td>12.964439</td>\n",
       "      <td>5.600000</td>\n",
       "      <td>0.000000</td>\n",
       "      <td>690.113275</td>\n",
       "      <td>2.108525</td>\n",
       "      <td>327.296635</td>\n",
       "    </tr>\n",
       "    <tr>\n",
       "      <th>2</th>\n",
       "      <td>898.186047</td>\n",
       "      <td>16.305279</td>\n",
       "      <td>13.066667</td>\n",
       "      <td>0.200000</td>\n",
       "      <td>1298.222619</td>\n",
       "      <td>13.769729</td>\n",
       "      <td>94.280910</td>\n",
       "    </tr>\n",
       "    <tr>\n",
       "      <th>3</th>\n",
       "      <td>881.757865</td>\n",
       "      <td>15.720468</td>\n",
       "      <td>11.800000</td>\n",
       "      <td>0.133333</td>\n",
       "      <td>1005.981659</td>\n",
       "      <td>18.181913</td>\n",
       "      <td>55.328701</td>\n",
       "    </tr>\n",
       "    <tr>\n",
       "      <th>4</th>\n",
       "      <td>809.625331</td>\n",
       "      <td>19.213819</td>\n",
       "      <td>20.200000</td>\n",
       "      <td>0.200000</td>\n",
       "      <td>1421.782051</td>\n",
       "      <td>48.215822</td>\n",
       "      <td>29.487873</td>\n",
       "    </tr>\n",
       "  </tbody>\n",
       "</table>\n",
       "</div>"
      ],
      "text/plain": [
       "      MEAN_RR      RMSSD      pNN25     pNN50           LF         HF  \\\n",
       "0  885.157845  15.554505  11.133333  0.533333  1009.249419  15.522603   \n",
       "1  939.425371  12.964439   5.600000  0.000000   690.113275   2.108525   \n",
       "2  898.186047  16.305279  13.066667  0.200000  1298.222619  13.769729   \n",
       "3  881.757865  15.720468  11.800000  0.133333  1005.981659  18.181913   \n",
       "4  809.625331  19.213819  20.200000  0.200000  1421.782051  48.215822   \n",
       "\n",
       "        LF_HF  \n",
       "0   65.018055  \n",
       "1  327.296635  \n",
       "2   94.280910  \n",
       "3   55.328701  \n",
       "4   29.487873  "
      ]
     },
     "execution_count": 19,
     "metadata": {},
     "output_type": "execute_result"
    }
   ],
   "source": [
    "df[features].head()"
   ]
  },
  {
   "cell_type": "code",
   "execution_count": 21,
   "metadata": {
    "execution": {
     "iopub.execute_input": "2024-11-09T15:50:23.868696Z",
     "iopub.status.busy": "2024-11-09T15:50:23.868226Z",
     "iopub.status.idle": "2024-11-09T15:50:23.891748Z",
     "shell.execute_reply": "2024-11-09T15:50:23.890477Z",
     "shell.execute_reply.started": "2024-11-09T15:50:23.868655Z"
    },
    "trusted": true
   },
   "outputs": [
    {
     "name": "stdout",
     "output_type": "stream",
     "text": [
      "Missing values in each feature:\n",
      "MEAN_RR    0\n",
      "RMSSD      0\n",
      "pNN25      0\n",
      "pNN50      0\n",
      "LF         0\n",
      "HF         0\n",
      "LF_HF      0\n",
      "dtype: int64\n"
     ]
    }
   ],
   "source": [
    "# Check for missing values in the dataset\n",
    "missing_values = df[features].isnull().sum()\n",
    "\n",
    "# Display the result\n",
    "print(\"Missing values in each feature:\")\n",
    "print(missing_values)"
   ]
  },
  {
   "cell_type": "markdown",
   "metadata": {},
   "source": [
    "### No Missing Values in the Dataset\n",
    "\n",
    "After checking for missing values in the dataset, we found that none of the selected features (`MEAN_RR`, `RMSSD`, `pNN25`, `pNN50`, `LF`, `HF`, `LF_HF`) contain missing values. This means that we do not need to perform any imputation or data cleaning with regard to missing values.\n",
    "\n",
    "Having a dataset without missing values simplifies the preprocessing pipeline and ensures that all data points can be used for training the machine learning model, which improves the model's ability to learn from complete data."
   ]
  },
  {
   "cell_type": "code",
   "execution_count": 22,
   "metadata": {
    "execution": {
     "iopub.execute_input": "2024-11-09T15:50:27.871100Z",
     "iopub.status.busy": "2024-11-09T15:50:27.870612Z",
     "iopub.status.idle": "2024-11-09T15:50:27.944906Z",
     "shell.execute_reply": "2024-11-09T15:50:27.943356Z",
     "shell.execute_reply.started": "2024-11-09T15:50:27.871057Z"
    },
    "trusted": true
   },
   "outputs": [],
   "source": [
    "# Initialize the StandardScaler object, which will standardize the features\n",
    "scaler = StandardScaler()\n",
    "\n",
    "# Fit the scaler on the training data (features) and compute the mean and std for scaling\n",
    "scaler.fit(df[features])\n",
    "\n",
    "# Transform the features by applying the scaling (standardizing) so that mean=0 and std=1\n",
    "df[features] = scaler.transform(df[features])"
   ]
  },
  {
   "cell_type": "markdown",
   "metadata": {},
   "source": [
    "### Why Standardize the Data?\n",
    "\n",
    "Standardizing the data is an essential preprocessing step, particularly for machine learning algorithms that are sensitive to the scale of the input features, such as neural networks or gradient-based optimization methods.\n",
    "\n",
    "In our dataset, the features have different ranges of values. For instance, the feature `LF_HF` may have values in the hundreds, while `pNN50` might be much smaller, near zero. If we feed the raw data into a machine learning algorithm, the large values of one feature may dominate over the smaller values of another, leading to biased learning.\n",
    "\n",
    "By using **StandardScaler**, we ensure that all features have a mean of 0 and a standard deviation of 1. This helps the learning algorithm to treat each feature equally and improves the training process, leading to faster convergence and potentially better performance.\n",
    "\n",
    "In this context, where we are using heart rate variability features (e.g., `MEAN_RR`, `RMSSD`, `pNN50`, `LF`, `HF`, etc.), scaling becomes crucial to avoid bias due to differences in the magnitude of these physiological measurements."
   ]
  },
  {
   "cell_type": "code",
   "execution_count": 23,
   "metadata": {
    "execution": {
     "iopub.execute_input": "2024-11-09T15:50:30.371395Z",
     "iopub.status.busy": "2024-11-09T15:50:30.370898Z",
     "iopub.status.idle": "2024-11-09T15:50:30.393924Z",
     "shell.execute_reply": "2024-11-09T15:50:30.392879Z",
     "shell.execute_reply.started": "2024-11-09T15:50:30.371350Z"
    },
    "trusted": true
   },
   "outputs": [],
   "source": [
    "# Extracting the feature matrix (X) from the DataFrame by selecting the columns specified in the 'features' list\n",
    "X = df[features].values\n",
    "\n",
    "# Extracting the target variable (y) from the DataFrame by selecting the column(s) specified in the 'label' list\n",
    "y = df[label].values"
   ]
  },
  {
   "cell_type": "code",
   "execution_count": 24,
   "metadata": {
    "execution": {
     "iopub.execute_input": "2024-11-09T15:50:32.401925Z",
     "iopub.status.busy": "2024-11-09T15:50:32.401463Z",
     "iopub.status.idle": "2024-11-09T15:50:32.467862Z",
     "shell.execute_reply": "2024-11-09T15:50:32.466471Z",
     "shell.execute_reply.started": "2024-11-09T15:50:32.401885Z"
    },
    "trusted": true
   },
   "outputs": [],
   "source": [
    "# Splitting the dataset into training and testing sets\n",
    "# X: Feature matrix, y: Target labels\n",
    "# test_size=0.3: 30% of the data will be used for testing, 70% for training\n",
    "# random_state=40: Ensures reproducibility by using the same seed for splitting every time\n",
    "X_train, X_test, y_train, y_test = train_test_split(X, y, test_size=0.3, random_state=40)"
   ]
  },
  {
   "cell_type": "code",
   "execution_count": 25,
   "metadata": {
    "execution": {
     "iopub.execute_input": "2024-11-09T15:50:33.906689Z",
     "iopub.status.busy": "2024-11-09T15:50:33.906256Z",
     "iopub.status.idle": "2024-11-09T15:50:33.913396Z",
     "shell.execute_reply": "2024-11-09T15:50:33.911816Z",
     "shell.execute_reply.started": "2024-11-09T15:50:33.906651Z"
    },
    "trusted": true
   },
   "outputs": [
    {
     "name": "stdout",
     "output_type": "stream",
     "text": [
      "(258502, 7) (258502, 1) (110787, 7) (110787, 1)\n"
     ]
    }
   ],
   "source": [
    "print(X_train.shape,y_train.shape,X_test.shape,y_test.shape)"
   ]
  },
  {
   "cell_type": "code",
   "execution_count": 26,
   "metadata": {
    "execution": {
     "iopub.execute_input": "2024-11-09T15:50:37.968783Z",
     "iopub.status.busy": "2024-11-09T15:50:37.968328Z",
     "iopub.status.idle": "2024-11-09T15:50:37.986190Z",
     "shell.execute_reply": "2024-11-09T15:50:37.984727Z",
     "shell.execute_reply.started": "2024-11-09T15:50:37.968716Z"
    },
    "trusted": true
   },
   "outputs": [
    {
     "name": "stdout",
     "output_type": "stream",
     "text": [
      "Unique target categories before one-hot encoding:\n",
      "[0 1 2]\n",
      "Shape of y_train after one-hot encoding: (258502, 1)\n",
      "Example of one-hot encoded labels in y_train:\n",
      "[[0]\n",
      " [2]\n",
      " [1]\n",
      " [1]\n",
      " [0]]\n"
     ]
    }
   ],
   "source": [
    "# Check the unique categories in y_train before being converted to categorical format\n",
    "print(\"Unique target categories before one-hot encoding:\")\n",
    "print(np.unique(y))\n",
    "\n",
    "# After converting y_train to categorical format\n",
    "print(\"Shape of y_train after one-hot encoding:\", y_train.shape)\n",
    "\n",
    "# Optional: Check if the categories were correctly converted\n",
    "print(\"Example of one-hot encoded labels in y_train:\")\n",
    "print(y_train[:5])  # Print the first 5 samples of y_train"
   ]
  },
  {
   "cell_type": "code",
   "execution_count": 27,
   "metadata": {
    "execution": {
     "iopub.execute_input": "2024-11-09T15:50:40.588294Z",
     "iopub.status.busy": "2024-11-09T15:50:40.587877Z",
     "iopub.status.idle": "2024-11-09T15:50:40.603236Z",
     "shell.execute_reply": "2024-11-09T15:50:40.601672Z",
     "shell.execute_reply.started": "2024-11-09T15:50:40.588246Z"
    },
    "trusted": true
   },
   "outputs": [
    {
     "name": "stdout",
     "output_type": "stream",
     "text": [
      "Shape y_train after one-hot encoding: (258502, 3)\n",
      "Shape y_test after one-hot encoding: (110787, 3)\n"
     ]
    }
   ],
   "source": [
    "from sklearn.preprocessing import LabelEncoder\n",
    "import tensorflow.keras as k\n",
    "\n",
    "# Agora aplicar o one-hot encoding\n",
    "y_train = k.utils.to_categorical(y_train)\n",
    "y_test = k.utils.to_categorical(y_test)\n",
    "\n",
    "# Verificando as dimensões\n",
    "print(\"Shape y_train after one-hot encoding:\", y_train.shape)\n",
    "print(\"Shape y_test after one-hot encoding:\", y_test.shape)"
   ]
  },
  {
   "cell_type": "markdown",
   "metadata": {},
   "source": [
    "### Encoding Target Labels for Classification\n",
    "\n",
    "In this step, we are converting the categorical target labels (`'interruption'`, `'no stress'`, and `'time pressure'`) into numerical values using `LabelEncoder`. The primary reason for this transformation is that machine learning models require numerical inputs to function properly. \n",
    "\n",
    "By encoding these categories into integers (`0`, `1`, and `2`), we are making the data suitable for classification algorithms, which can better interpret and process numerical values.\n",
    "\n",
    "#### Why Use `LabelEncoder` Instead of One-Hot Encoding?\n",
    "1. **Simplicity**: Since we only have three distinct categories, it is more efficient to use integer encoding (`0`, `1`, and `2`) rather than creating three separate columns (as would happen with one-hot encoding).\n",
    "2. **Direct Mapping**: The integer values provide a direct mapping between the original categories and their numerical representation. This approach is sufficient because the categories are mutually exclusive and there’s no need for binary columns.\n",
    "3. **Compatibility with Classifiers**: Many classifiers can work with these encoded values directly, making the training process simpler and faster.\n",
    "\n",
    "After encoding, the target labels will be represented as:\n",
    "- `'interruption'` → `0`\n",
    "- `'no stress'` → `1`\n",
    "- `'time pressure'` → `2`\n",
    "\n",
    "This encoded format will be used as the target labels for both the training and testing datasets.\n"
   ]
  },
  {
   "cell_type": "code",
   "execution_count": 28,
   "metadata": {
    "execution": {
     "iopub.execute_input": "2024-11-09T15:50:45.569023Z",
     "iopub.status.busy": "2024-11-09T15:50:45.568567Z",
     "iopub.status.idle": "2024-11-09T15:50:45.575885Z",
     "shell.execute_reply": "2024-11-09T15:50:45.574646Z",
     "shell.execute_reply.started": "2024-11-09T15:50:45.568981Z"
    },
    "trusted": true
   },
   "outputs": [
    {
     "name": "stdout",
     "output_type": "stream",
     "text": [
      "(258502, 7) (258502, 3) (110787, 7) (110787, 3)\n"
     ]
    }
   ],
   "source": [
    "print(X_train.shape,y_train.shape,X_test.shape,y_test.shape)"
   ]
  },
  {
   "cell_type": "markdown",
   "metadata": {},
   "source": [
    "# Model Creation"
   ]
  },
  {
   "cell_type": "code",
   "execution_count": 29,
   "metadata": {
    "execution": {
     "iopub.execute_input": "2024-11-09T15:50:52.069981Z",
     "iopub.status.busy": "2024-11-09T15:50:52.068863Z",
     "iopub.status.idle": "2024-11-09T15:50:52.075542Z",
     "shell.execute_reply": "2024-11-09T15:50:52.074124Z",
     "shell.execute_reply.started": "2024-11-09T15:50:52.069929Z"
    },
    "trusted": true
   },
   "outputs": [],
   "source": [
    "from tensorflow.keras import Sequential\n",
    "from tensorflow.keras.layers import Dense"
   ]
  },
  {
   "cell_type": "code",
   "execution_count": 30,
   "metadata": {
    "execution": {
     "iopub.execute_input": "2024-11-09T15:51:51.395590Z",
     "iopub.status.busy": "2024-11-09T15:51:51.395114Z",
     "iopub.status.idle": "2024-11-09T15:51:51.449317Z",
     "shell.execute_reply": "2024-11-09T15:51:51.448059Z",
     "shell.execute_reply.started": "2024-11-09T15:51:51.395545Z"
    },
    "trusted": true
   },
   "outputs": [
    {
     "name": "stderr",
     "output_type": "stream",
     "text": [
      "/home/gesture-queen/miniconda3/envs/tf2/lib/python3.12/site-packages/keras/src/layers/core/dense.py:87: UserWarning: Do not pass an `input_shape`/`input_dim` argument to a layer. When using Sequential models, prefer using an `Input(shape)` object as the first layer in the model instead.\n",
      "  super().__init__(activity_regularizer=activity_regularizer, **kwargs)\n",
      "I0000 00:00:1731329920.697975    4213 gpu_device.cc:2022] Created device /job:localhost/replica:0/task:0/device:GPU:0 with 3873 MB memory:  -> device: 0, name: NVIDIA GeForce RTX 4050 Laptop GPU, pci bus id: 0000:01:00.0, compute capability: 8.9\n"
     ]
    }
   ],
   "source": [
    "# Initializing a Sequential model, which allows layers to be stacked one after another\n",
    "model = Sequential()\n",
    "\n",
    "# Adding the first Dense layer with 50 neurons, 'relu' activation, and 'he_normal' weight initialization\n",
    "# The input shape is set to the number of features in the training data (X_train.shape[1])\n",
    "model.add(Dense(50, activation='relu', kernel_initializer='he_normal', input_shape=(X_train.shape[1],)))\n",
    "\n",
    "# Adding the second Dense layer with 20 neurons, 'relu' activation, and 'he_normal' weight initialization\n",
    "model.add(Dense(20, activation='relu', kernel_initializer='he_normal'))\n",
    "\n",
    "# Adding the third Dense layer with 10 neurons, 'relu' activation, and 'he_normal' weight initialization\n",
    "model.add(Dense(10, activation='relu', kernel_initializer='he_normal'))\n",
    "\n",
    "# Adding the output layer with 3 neurons (since we have 3 target classes) and 'softmax' activation function\n",
    "# The softmax activation ensures that the output values represent probabilities for each class\n",
    "model.add(Dense(3, activation='softmax'))"
   ]
  },
  {
   "cell_type": "code",
   "execution_count": 31,
   "metadata": {
    "execution": {
     "iopub.execute_input": "2024-11-09T15:51:02.102943Z",
     "iopub.status.busy": "2024-11-09T15:51:02.102438Z",
     "iopub.status.idle": "2024-11-09T15:51:02.109477Z",
     "shell.execute_reply": "2024-11-09T15:51:02.108132Z",
     "shell.execute_reply.started": "2024-11-09T15:51:02.102898Z"
    },
    "trusted": true
   },
   "outputs": [
    {
     "name": "stdout",
     "output_type": "stream",
     "text": [
      "Shape X: (369289, 7)\n",
      "Shape y: (369289, 1)\n"
     ]
    }
   ],
   "source": [
    "print(\"Shape X:\", X.shape)\n",
    "print(\"Shape y:\", y.shape)"
   ]
  },
  {
   "cell_type": "code",
   "execution_count": 32,
   "metadata": {
    "execution": {
     "iopub.execute_input": "2024-11-09T15:51:03.684550Z",
     "iopub.status.busy": "2024-11-09T15:51:03.684098Z",
     "iopub.status.idle": "2024-11-09T15:51:03.691453Z",
     "shell.execute_reply": "2024-11-09T15:51:03.689969Z",
     "shell.execute_reply.started": "2024-11-09T15:51:03.684508Z"
    },
    "trusted": true
   },
   "outputs": [
    {
     "name": "stdout",
     "output_type": "stream",
     "text": [
      "Shape X_train: (258502, 7)\n",
      "Shape y_train: (258502, 3)\n"
     ]
    }
   ],
   "source": [
    "print(\"Shape X_train:\", X_train.shape)\n",
    "print(\"Shape y_train:\", y_train.shape)"
   ]
  },
  {
   "cell_type": "code",
   "execution_count": 33,
   "metadata": {
    "execution": {
     "iopub.execute_input": "2024-11-09T15:52:01.065299Z",
     "iopub.status.busy": "2024-11-09T15:52:01.064796Z",
     "iopub.status.idle": "2024-11-09T15:52:45.957458Z",
     "shell.execute_reply": "2024-11-09T15:52:45.956146Z",
     "shell.execute_reply.started": "2024-11-09T15:52:01.065254Z"
    },
    "trusted": true
   },
   "outputs": [
    {
     "name": "stdout",
     "output_type": "stream",
     "text": [
      "Epoch 1/50\n"
     ]
    },
    {
     "name": "stderr",
     "output_type": "stream",
     "text": [
      "WARNING: All log messages before absl::InitializeLog() is called are written to STDERR\n",
      "I0000 00:00:1731329924.921773    5145 service.cc:148] XLA service 0x7c5ec400a230 initialized for platform CUDA (this does not guarantee that XLA will be used). Devices:\n",
      "I0000 00:00:1731329924.921900    5145 service.cc:156]   StreamExecutor device (0): NVIDIA GeForce RTX 4050 Laptop GPU, Compute Capability 8.9\n",
      "2024-11-11 18:28:44.945079: I tensorflow/compiler/mlir/tensorflow/utils/dump_mlir_util.cc:268] disabling MLIR crash reproducer, set env var `MLIR_CRASH_REPRODUCER_DIRECTORY` to enable.\n",
      "I0000 00:00:1731329925.037500    5145 cuda_dnn.cc:529] Loaded cuDNN version 90300\n",
      "2024-11-11 18:28:45.742968: I external/local_xla/xla/stream_executor/cuda/cuda_asm_compiler.cc:397] ptxas warning : Registers are spilled to local memory in function 'gemm_fusion_dot_188', 16 bytes spill stores, 16 bytes spill loads\n",
      "\n",
      "2024-11-11 18:28:46.856692: I external/local_xla/xla/stream_executor/cuda/cuda_asm_compiler.cc:397] ptxas warning : Registers are spilled to local memory in function 'gemm_fusion_dot_385', 444 bytes spill stores, 444 bytes spill loads\n",
      "\n",
      "2024-11-11 18:28:47.312722: I external/local_xla/xla/stream_executor/cuda/cuda_asm_compiler.cc:397] ptxas warning : Registers are spilled to local memory in function 'gemm_fusion_dot_389', 124 bytes spill stores, 120 bytes spill loads\n",
      "\n",
      "2024-11-11 18:28:47.518433: I external/local_xla/xla/stream_executor/cuda/cuda_asm_compiler.cc:397] ptxas warning : Registers are spilled to local memory in function 'gemm_fusion_dot_387', 636 bytes spill stores, 640 bytes spill loads\n",
      "\n",
      "2024-11-11 18:28:47.549928: I external/local_xla/xla/stream_executor/cuda/cuda_asm_compiler.cc:397] ptxas warning : Registers are spilled to local memory in function 'gemm_fusion_dot_389', 3080 bytes spill stores, 3076 bytes spill loads\n",
      "\n"
     ]
    },
    {
     "name": "stdout",
     "output_type": "stream",
     "text": [
      "\u001b[1m192/253\u001b[0m \u001b[32m━━━━━━━━━━━━━━━\u001b[0m\u001b[37m━━━━━\u001b[0m \u001b[1m0s\u001b[0m 943us/step - accuracy: 0.5520 - loss: 1.1483"
     ]
    },
    {
     "name": "stderr",
     "output_type": "stream",
     "text": [
      "I0000 00:00:1731329928.508202    5145 device_compiler.h:188] Compiled cluster using XLA!  This line is logged at most once for the lifetime of the process.\n"
     ]
    },
    {
     "name": "stdout",
     "output_type": "stream",
     "text": [
      "\u001b[1m231/253\u001b[0m \u001b[32m━━━━━━━━━━━━━━━━━━\u001b[0m\u001b[37m━━\u001b[0m \u001b[1m0s\u001b[0m 1ms/step - accuracy: 0.5568 - loss: 1.1114"
     ]
    },
    {
     "name": "stderr",
     "output_type": "stream",
     "text": [
      "2024-11-11 18:28:50.467401: I external/local_xla/xla/stream_executor/cuda/cuda_asm_compiler.cc:397] ptxas warning : Registers are spilled to local memory in function 'gemm_fusion_dot_385', 68 bytes spill stores, 68 bytes spill loads\n",
      "\n"
     ]
    },
    {
     "name": "stdout",
     "output_type": "stream",
     "text": [
      "\u001b[1m253/253\u001b[0m \u001b[32m━━━━━━━━━━━━━━━━━━━━\u001b[0m\u001b[37m\u001b[0m \u001b[1m0s\u001b[0m 13ms/step - accuracy: 0.5596 - loss: 1.0959"
     ]
    },
    {
     "name": "stderr",
     "output_type": "stream",
     "text": [
      "2024-11-11 18:28:52.694704: I external/local_xla/xla/stream_executor/cuda/cuda_asm_compiler.cc:397] ptxas warning : Registers are spilled to local memory in function 'gemm_fusion_dot_49', 60 bytes spill stores, 60 bytes spill loads\n",
      "\n"
     ]
    },
    {
     "name": "stdout",
     "output_type": "stream",
     "text": [
      "\u001b[1m253/253\u001b[0m \u001b[32m━━━━━━━━━━━━━━━━━━━━\u001b[0m\u001b[37m\u001b[0m \u001b[1m9s\u001b[0m 20ms/step - accuracy: 0.5597 - loss: 1.0952 - val_accuracy: 0.6358 - val_loss: 0.7782\n",
      "Epoch 2/50\n",
      "\u001b[1m253/253\u001b[0m \u001b[32m━━━━━━━━━━━━━━━━━━━━\u001b[0m\u001b[37m\u001b[0m \u001b[1m0s\u001b[0m 1ms/step - accuracy: 0.6650 - loss: 0.7370 - val_accuracy: 0.7473 - val_loss: 0.6213\n",
      "Epoch 3/50\n",
      "\u001b[1m253/253\u001b[0m \u001b[32m━━━━━━━━━━━━━━━━━━━━\u001b[0m\u001b[37m\u001b[0m \u001b[1m0s\u001b[0m 2ms/step - accuracy: 0.7569 - loss: 0.5898 - val_accuracy: 0.7830 - val_loss: 0.5140\n",
      "Epoch 4/50\n",
      "\u001b[1m253/253\u001b[0m \u001b[32m━━━━━━━━━━━━━━━━━━━━\u001b[0m\u001b[37m\u001b[0m \u001b[1m0s\u001b[0m 2ms/step - accuracy: 0.7927 - loss: 0.4938 - val_accuracy: 0.8157 - val_loss: 0.4419\n",
      "Epoch 5/50\n",
      "\u001b[1m253/253\u001b[0m \u001b[32m━━━━━━━━━━━━━━━━━━━━\u001b[0m\u001b[37m\u001b[0m \u001b[1m0s\u001b[0m 2ms/step - accuracy: 0.8227 - loss: 0.4256 - val_accuracy: 0.8355 - val_loss: 0.3923\n",
      "Epoch 6/50\n",
      "\u001b[1m253/253\u001b[0m \u001b[32m━━━━━━━━━━━━━━━━━━━━\u001b[0m\u001b[37m\u001b[0m \u001b[1m0s\u001b[0m 2ms/step - accuracy: 0.8426 - loss: 0.3814 - val_accuracy: 0.8588 - val_loss: 0.3558\n",
      "Epoch 7/50\n",
      "\u001b[1m253/253\u001b[0m \u001b[32m━━━━━━━━━━━━━━━━━━━━\u001b[0m\u001b[37m\u001b[0m \u001b[1m1s\u001b[0m 2ms/step - accuracy: 0.8611 - loss: 0.3469 - val_accuracy: 0.8702 - val_loss: 0.3200\n",
      "Epoch 8/50\n",
      "\u001b[1m253/253\u001b[0m \u001b[32m━━━━━━━━━━━━━━━━━━━━\u001b[0m\u001b[37m\u001b[0m \u001b[1m0s\u001b[0m 1ms/step - accuracy: 0.8746 - loss: 0.3120 - val_accuracy: 0.8795 - val_loss: 0.2907\n",
      "Epoch 9/50\n",
      "\u001b[1m253/253\u001b[0m \u001b[32m━━━━━━━━━━━━━━━━━━━━\u001b[0m\u001b[37m\u001b[0m \u001b[1m0s\u001b[0m 2ms/step - accuracy: 0.8845 - loss: 0.2822 - val_accuracy: 0.9020 - val_loss: 0.2570\n",
      "Epoch 10/50\n",
      "\u001b[1m253/253\u001b[0m \u001b[32m━━━━━━━━━━━━━━━━━━━━\u001b[0m\u001b[37m\u001b[0m \u001b[1m0s\u001b[0m 2ms/step - accuracy: 0.9070 - loss: 0.2466 - val_accuracy: 0.9113 - val_loss: 0.2331\n",
      "Epoch 11/50\n",
      "\u001b[1m253/253\u001b[0m \u001b[32m━━━━━━━━━━━━━━━━━━━━\u001b[0m\u001b[37m\u001b[0m \u001b[1m1s\u001b[0m 2ms/step - accuracy: 0.9152 - loss: 0.2235 - val_accuracy: 0.9197 - val_loss: 0.2126\n",
      "Epoch 12/50\n",
      "\u001b[1m253/253\u001b[0m \u001b[32m━━━━━━━━━━━━━━━━━━━━\u001b[0m\u001b[37m\u001b[0m \u001b[1m0s\u001b[0m 1ms/step - accuracy: 0.9217 - loss: 0.2063 - val_accuracy: 0.9242 - val_loss: 0.1985\n",
      "Epoch 13/50\n",
      "\u001b[1m253/253\u001b[0m \u001b[32m━━━━━━━━━━━━━━━━━━━━\u001b[0m\u001b[37m\u001b[0m \u001b[1m0s\u001b[0m 2ms/step - accuracy: 0.9256 - loss: 0.1965 - val_accuracy: 0.9287 - val_loss: 0.1862\n",
      "Epoch 14/50\n",
      "\u001b[1m253/253\u001b[0m \u001b[32m━━━━━━━━━━━━━━━━━━━━\u001b[0m\u001b[37m\u001b[0m \u001b[1m0s\u001b[0m 2ms/step - accuracy: 0.9316 - loss: 0.1823 - val_accuracy: 0.9322 - val_loss: 0.1791\n",
      "Epoch 15/50\n",
      "\u001b[1m253/253\u001b[0m \u001b[32m━━━━━━━━━━━━━━━━━━━━\u001b[0m\u001b[37m\u001b[0m \u001b[1m0s\u001b[0m 2ms/step - accuracy: 0.9349 - loss: 0.1741 - val_accuracy: 0.9347 - val_loss: 0.1731\n",
      "Epoch 16/50\n",
      "\u001b[1m253/253\u001b[0m \u001b[32m━━━━━━━━━━━━━━━━━━━━\u001b[0m\u001b[37m\u001b[0m \u001b[1m0s\u001b[0m 1ms/step - accuracy: 0.9382 - loss: 0.1663 - val_accuracy: 0.9371 - val_loss: 0.1648\n",
      "Epoch 17/50\n",
      "\u001b[1m253/253\u001b[0m \u001b[32m━━━━━━━━━━━━━━━━━━━━\u001b[0m\u001b[37m\u001b[0m \u001b[1m0s\u001b[0m 1ms/step - accuracy: 0.9395 - loss: 0.1628 - val_accuracy: 0.9404 - val_loss: 0.1572\n",
      "Epoch 18/50\n",
      "\u001b[1m253/253\u001b[0m \u001b[32m━━━━━━━━━━━━━━━━━━━━\u001b[0m\u001b[37m\u001b[0m \u001b[1m0s\u001b[0m 1ms/step - accuracy: 0.9416 - loss: 0.1562 - val_accuracy: 0.9429 - val_loss: 0.1558\n",
      "Epoch 19/50\n",
      "\u001b[1m253/253\u001b[0m \u001b[32m━━━━━━━━━━━━━━━━━━━━\u001b[0m\u001b[37m\u001b[0m \u001b[1m0s\u001b[0m 2ms/step - accuracy: 0.9425 - loss: 0.1538 - val_accuracy: 0.9423 - val_loss: 0.1500\n",
      "Epoch 20/50\n",
      "\u001b[1m253/253\u001b[0m \u001b[32m━━━━━━━━━━━━━━━━━━━━\u001b[0m\u001b[37m\u001b[0m \u001b[1m0s\u001b[0m 2ms/step - accuracy: 0.9447 - loss: 0.1469 - val_accuracy: 0.9462 - val_loss: 0.1441\n",
      "Epoch 21/50\n",
      "\u001b[1m253/253\u001b[0m \u001b[32m━━━━━━━━━━━━━━━━━━━━\u001b[0m\u001b[37m\u001b[0m \u001b[1m0s\u001b[0m 1ms/step - accuracy: 0.9465 - loss: 0.1430 - val_accuracy: 0.9478 - val_loss: 0.1396\n",
      "Epoch 22/50\n",
      "\u001b[1m253/253\u001b[0m \u001b[32m━━━━━━━━━━━━━━━━━━━━\u001b[0m\u001b[37m\u001b[0m \u001b[1m0s\u001b[0m 1ms/step - accuracy: 0.9480 - loss: 0.1391 - val_accuracy: 0.9424 - val_loss: 0.1473\n",
      "Epoch 23/50\n",
      "\u001b[1m253/253\u001b[0m \u001b[32m━━━━━━━━━━━━━━━━━━━━\u001b[0m\u001b[37m\u001b[0m \u001b[1m0s\u001b[0m 1ms/step - accuracy: 0.9502 - loss: 0.1337 - val_accuracy: 0.9504 - val_loss: 0.1345\n",
      "Epoch 24/50\n",
      "\u001b[1m253/253\u001b[0m \u001b[32m━━━━━━━━━━━━━━━━━━━━\u001b[0m\u001b[37m\u001b[0m \u001b[1m0s\u001b[0m 2ms/step - accuracy: 0.9506 - loss: 0.1326 - val_accuracy: 0.9497 - val_loss: 0.1380\n",
      "Epoch 25/50\n",
      "\u001b[1m253/253\u001b[0m \u001b[32m━━━━━━━━━━━━━━━━━━━━\u001b[0m\u001b[37m\u001b[0m \u001b[1m0s\u001b[0m 2ms/step - accuracy: 0.9516 - loss: 0.1308 - val_accuracy: 0.9498 - val_loss: 0.1338\n",
      "Epoch 26/50\n",
      "\u001b[1m253/253\u001b[0m \u001b[32m━━━━━━━━━━━━━━━━━━━━\u001b[0m\u001b[37m\u001b[0m \u001b[1m0s\u001b[0m 1ms/step - accuracy: 0.9544 - loss: 0.1258 - val_accuracy: 0.9512 - val_loss: 0.1315\n",
      "Epoch 27/50\n",
      "\u001b[1m253/253\u001b[0m \u001b[32m━━━━━━━━━━━━━━━━━━━━\u001b[0m\u001b[37m\u001b[0m \u001b[1m0s\u001b[0m 2ms/step - accuracy: 0.9550 - loss: 0.1241 - val_accuracy: 0.9518 - val_loss: 0.1274\n",
      "Epoch 28/50\n",
      "\u001b[1m253/253\u001b[0m \u001b[32m━━━━━━━━━━━━━━━━━━━━\u001b[0m\u001b[37m\u001b[0m \u001b[1m0s\u001b[0m 2ms/step - accuracy: 0.9567 - loss: 0.1189 - val_accuracy: 0.9544 - val_loss: 0.1263\n",
      "Epoch 29/50\n",
      "\u001b[1m253/253\u001b[0m \u001b[32m━━━━━━━━━━━━━━━━━━━━\u001b[0m\u001b[37m\u001b[0m \u001b[1m0s\u001b[0m 1ms/step - accuracy: 0.9567 - loss: 0.1185 - val_accuracy: 0.9518 - val_loss: 0.1297\n",
      "Epoch 30/50\n",
      "\u001b[1m253/253\u001b[0m \u001b[32m━━━━━━━━━━━━━━━━━━━━\u001b[0m\u001b[37m\u001b[0m \u001b[1m0s\u001b[0m 1ms/step - accuracy: 0.9572 - loss: 0.1169 - val_accuracy: 0.9576 - val_loss: 0.1167\n",
      "Epoch 31/50\n",
      "\u001b[1m253/253\u001b[0m \u001b[32m━━━━━━━━━━━━━━━━━━━━\u001b[0m\u001b[37m\u001b[0m \u001b[1m0s\u001b[0m 2ms/step - accuracy: 0.9587 - loss: 0.1144 - val_accuracy: 0.9581 - val_loss: 0.1143\n",
      "Epoch 32/50\n",
      "\u001b[1m253/253\u001b[0m \u001b[32m━━━━━━━━━━━━━━━━━━━━\u001b[0m\u001b[37m\u001b[0m \u001b[1m0s\u001b[0m 1ms/step - accuracy: 0.9600 - loss: 0.1110 - val_accuracy: 0.9590 - val_loss: 0.1159\n",
      "Epoch 33/50\n",
      "\u001b[1m253/253\u001b[0m \u001b[32m━━━━━━━━━━━━━━━━━━━━\u001b[0m\u001b[37m\u001b[0m \u001b[1m0s\u001b[0m 1ms/step - accuracy: 0.9609 - loss: 0.1099 - val_accuracy: 0.9594 - val_loss: 0.1108\n",
      "Epoch 34/50\n",
      "\u001b[1m253/253\u001b[0m \u001b[32m━━━━━━━━━━━━━━━━━━━━\u001b[0m\u001b[37m\u001b[0m \u001b[1m0s\u001b[0m 2ms/step - accuracy: 0.9611 - loss: 0.1089 - val_accuracy: 0.9607 - val_loss: 0.1105\n",
      "Epoch 35/50\n",
      "\u001b[1m253/253\u001b[0m \u001b[32m━━━━━━━━━━━━━━━━━━━━\u001b[0m\u001b[37m\u001b[0m \u001b[1m0s\u001b[0m 2ms/step - accuracy: 0.9617 - loss: 0.1070 - val_accuracy: 0.9617 - val_loss: 0.1071\n",
      "Epoch 36/50\n",
      "\u001b[1m253/253\u001b[0m \u001b[32m━━━━━━━━━━━━━━━━━━━━\u001b[0m\u001b[37m\u001b[0m \u001b[1m0s\u001b[0m 1ms/step - accuracy: 0.9617 - loss: 0.1053 - val_accuracy: 0.9612 - val_loss: 0.1051\n",
      "Epoch 37/50\n",
      "\u001b[1m253/253\u001b[0m \u001b[32m━━━━━━━━━━━━━━━━━━━━\u001b[0m\u001b[37m\u001b[0m \u001b[1m1s\u001b[0m 2ms/step - accuracy: 0.9629 - loss: 0.1036 - val_accuracy: 0.9623 - val_loss: 0.1055\n",
      "Epoch 38/50\n",
      "\u001b[1m253/253\u001b[0m \u001b[32m━━━━━━━━━━━━━━━━━━━━\u001b[0m\u001b[37m\u001b[0m \u001b[1m0s\u001b[0m 1ms/step - accuracy: 0.9633 - loss: 0.1026 - val_accuracy: 0.9630 - val_loss: 0.1045\n",
      "Epoch 39/50\n",
      "\u001b[1m253/253\u001b[0m \u001b[32m━━━━━━━━━━━━━━━━━━━━\u001b[0m\u001b[37m\u001b[0m \u001b[1m0s\u001b[0m 1ms/step - accuracy: 0.9632 - loss: 0.1021 - val_accuracy: 0.9643 - val_loss: 0.1006\n",
      "Epoch 40/50\n",
      "\u001b[1m253/253\u001b[0m \u001b[32m━━━━━━━━━━━━━━━━━━━━\u001b[0m\u001b[37m\u001b[0m \u001b[1m0s\u001b[0m 1ms/step - accuracy: 0.9641 - loss: 0.0997 - val_accuracy: 0.9634 - val_loss: 0.1024\n",
      "Epoch 41/50\n",
      "\u001b[1m253/253\u001b[0m \u001b[32m━━━━━━━━━━━━━━━━━━━━\u001b[0m\u001b[37m\u001b[0m \u001b[1m0s\u001b[0m 2ms/step - accuracy: 0.9643 - loss: 0.0997 - val_accuracy: 0.9629 - val_loss: 0.1026\n",
      "Epoch 42/50\n",
      "\u001b[1m253/253\u001b[0m \u001b[32m━━━━━━━━━━━━━━━━━━━━\u001b[0m\u001b[37m\u001b[0m \u001b[1m0s\u001b[0m 1ms/step - accuracy: 0.9651 - loss: 0.0974 - val_accuracy: 0.9652 - val_loss: 0.0973\n",
      "Epoch 43/50\n",
      "\u001b[1m253/253\u001b[0m \u001b[32m━━━━━━━━━━━━━━━━━━━━\u001b[0m\u001b[37m\u001b[0m \u001b[1m0s\u001b[0m 1ms/step - accuracy: 0.9646 - loss: 0.0988 - val_accuracy: 0.9654 - val_loss: 0.0970\n",
      "Epoch 44/50\n",
      "\u001b[1m253/253\u001b[0m \u001b[32m━━━━━━━━━━━━━━━━━━━━\u001b[0m\u001b[37m\u001b[0m \u001b[1m0s\u001b[0m 2ms/step - accuracy: 0.9644 - loss: 0.0982 - val_accuracy: 0.9642 - val_loss: 0.0967\n",
      "Epoch 45/50\n",
      "\u001b[1m253/253\u001b[0m \u001b[32m━━━━━━━━━━━━━━━━━━━━\u001b[0m\u001b[37m\u001b[0m \u001b[1m0s\u001b[0m 1ms/step - accuracy: 0.9659 - loss: 0.0961 - val_accuracy: 0.9678 - val_loss: 0.0930\n",
      "Epoch 46/50\n",
      "\u001b[1m253/253\u001b[0m \u001b[32m━━━━━━━━━━━━━━━━━━━━\u001b[0m\u001b[37m\u001b[0m \u001b[1m0s\u001b[0m 1ms/step - accuracy: 0.9660 - loss: 0.0953 - val_accuracy: 0.9632 - val_loss: 0.1001\n",
      "Epoch 47/50\n",
      "\u001b[1m253/253\u001b[0m \u001b[32m━━━━━━━━━━━━━━━━━━━━\u001b[0m\u001b[37m\u001b[0m \u001b[1m0s\u001b[0m 1ms/step - accuracy: 0.9667 - loss: 0.0947 - val_accuracy: 0.9672 - val_loss: 0.0916\n",
      "Epoch 48/50\n",
      "\u001b[1m253/253\u001b[0m \u001b[32m━━━━━━━━━━━━━━━━━━━━\u001b[0m\u001b[37m\u001b[0m \u001b[1m0s\u001b[0m 1ms/step - accuracy: 0.9668 - loss: 0.0926 - val_accuracy: 0.9670 - val_loss: 0.0933\n",
      "Epoch 49/50\n",
      "\u001b[1m253/253\u001b[0m \u001b[32m━━━━━━━━━━━━━━━━━━━━\u001b[0m\u001b[37m\u001b[0m \u001b[1m0s\u001b[0m 1ms/step - accuracy: 0.9673 - loss: 0.0909 - val_accuracy: 0.9687 - val_loss: 0.0893\n",
      "Epoch 50/50\n",
      "\u001b[1m253/253\u001b[0m \u001b[32m━━━━━━━━━━━━━━━━━━━━\u001b[0m\u001b[37m\u001b[0m \u001b[1m0s\u001b[0m 1ms/step - accuracy: 0.9677 - loss: 0.0900 - val_accuracy: 0.9666 - val_loss: 0.0919\n"
     ]
    }
   ],
   "source": [
    "# Compile the model\n",
    "# y_train = y_train.reshape(-1, y_train.shape[2])  # Reshape to (samples, num_classes)\n",
    "model.compile(optimizer='adam', loss='categorical_crossentropy', metrics=['accuracy'])\n",
    "\n",
    "# Train the modelo\n",
    "history = model.fit(X_train, y_train, validation_data=(X_test, y_test), epochs=50, batch_size=1024, verbose=1)"
   ]
  },
  {
   "cell_type": "markdown",
   "metadata": {},
   "source": [
    "### Neural Network Architecture Explanation\n",
    "\n",
    "In this model, we are building a neural network using the **Sequential API** from Keras. The model consists of several fully connected (**Dense**) layers, where each neuron is connected to every input or output of the previous layer.\n",
    "\n",
    "#### Layers Overview:\n",
    "1. **First Dense Layer**:\n",
    "   - **50 Neurons**: The model begins with 50 neurons in this hidden layer.\n",
    "   - **Activation Function ('ReLU')**: This introduces non-linearity into the model, which allows the network to capture complex patterns in the data.\n",
    "   - **Weight Initialization ('he_normal')**: This method initializes the weights in a way that leads to faster convergence, especially when using the ReLU activation function.\n",
    "   - **Input Shape**: The input size is set to the number of features in the dataset, which is the number of columns in the training set (excluding the target).\n",
    "\n",
    "2. **Second Dense Layer**:\n",
    "   - **20 Neurons**: This layer reduces the number of neurons, allowing the network to progressively narrow down the complexity as it moves towards the output.\n",
    "   - **Activation Function ('ReLU')** and **Weight Initialization ('he_normal')** are applied in the same manner as the first layer.\n",
    "\n",
    "3. **Third Dense Layer**:\n",
    "   - **10 Neurons**: This layer further narrows down the neuron count, preparing for the output layer.\n",
    "   - **Activation Function ('ReLU')** and **Weight Initialization ('he_normal')** are applied similarly.\n",
    "\n",
    "4. **Output Layer**:\n",
    "   - **3 Neurons**: The output layer contains 3 neurons because the task is a 3-class classification problem (corresponding to categories like 'no stress', 'time pressure', and 'interruption').\n",
    "   - **Activation Function ('softmax')**: Softmax is used here to ensure that the output is in the form of probabilities for each class. The class with the highest probability will be the predicted category.\n",
    "\n",
    "This architecture allows the network to progressively extract features and reduce complexity until it can make an accurate classification prediction."
   ]
  },
  {
   "cell_type": "code",
   "execution_count": 34,
   "metadata": {
    "execution": {
     "iopub.execute_input": "2024-11-09T15:52:54.680316Z",
     "iopub.status.busy": "2024-11-09T15:52:54.679775Z",
     "iopub.status.idle": "2024-11-09T15:52:55.085552Z",
     "shell.execute_reply": "2024-11-09T15:52:55.084334Z",
     "shell.execute_reply.started": "2024-11-09T15:52:54.680271Z"
    },
    "trusted": true
   },
   "outputs": [
    {
     "data": {
      "text/plain": [
       "<Axes: >"
      ]
     },
     "execution_count": 34,
     "metadata": {},
     "output_type": "execute_result"
    },
    {
     "data": {
      "image/png": "[encoded data removed]",
      "text/plain": [
       "<Figure size 1000x700 with 1 Axes>"
      ]
     },
     "metadata": {},
     "output_type": "display_data"
    }
   ],
   "source": [
    "pd.DataFrame(history.history).plot(figsize=(10,7))"
   ]
  },
  {
   "cell_type": "markdown",
   "metadata": {},
   "source": [
    "### Model Training Conclusion\n",
    "\n",
    "The model training over 50 epochs demonstrates consistent and promising performance based on the accuracy and loss metrics for both the training and validation sets. Here are the key observations from the results shown:\n",
    "\n",
    "- **Accuracy**: \n",
    "  - The training accuracy stabilized around **95.8%**, demonstrating strong learning and pattern recognition in the training set.\n",
    "  - The validation accuracy hovered around **95.5% to 95.7%**, which indicates that the model generalizes well to unseen data and is not significantly overfitting.\n",
    "\n",
    "- **Loss**:\n",
    "  - The training loss gradually reduced to **0.1173**, showing that the model continued to optimize its weights effectively during training.\n",
    "  - The validation loss also followed a steady decline, ending at **0.1208**, which aligns closely with the training loss, further suggesting minimal overfitting.\n",
    "\n",
    "Overall, the results suggest that the model has successfully learned from the data with consistent performance across both training and validation sets. This stable accuracy and low loss imply that the model is well-tuned for this dataset. Future improvements could focus on fine-tuning the model further or evaluating its performance on a larger test set to confirm generalization capabilities."
   ]
  },
  {
   "cell_type": "markdown",
   "metadata": {},
   "source": [
    "# Testing on testset"
   ]
  },
  {
   "cell_type": "code",
   "execution_count": 35,
   "metadata": {
    "execution": {
     "iopub.execute_input": "2024-11-09T15:53:03.314819Z",
     "iopub.status.busy": "2024-11-09T15:53:03.314351Z",
     "iopub.status.idle": "2024-11-09T15:53:03.320461Z",
     "shell.execute_reply": "2024-11-09T15:53:03.318988Z",
     "shell.execute_reply.started": "2024-11-09T15:53:03.314774Z"
    },
    "trusted": true
   },
   "outputs": [],
   "source": [
    "df_test = combined_test"
   ]
  },
  {
   "cell_type": "code",
   "execution_count": 36,
   "metadata": {
    "execution": {
     "iopub.execute_input": "2024-11-09T15:53:05.146323Z",
     "iopub.status.busy": "2024-11-09T15:53:05.145849Z",
     "iopub.status.idle": "2024-11-09T15:53:05.171878Z",
     "shell.execute_reply": "2024-11-09T15:53:05.170596Z",
     "shell.execute_reply.started": "2024-11-09T15:53:05.146282Z"
    },
    "trusted": true
   },
   "outputs": [
    {
     "data": {
      "text/html": [
       "<div>\n",
       "<style scoped>\n",
       "    .dataframe tbody tr th:only-of-type {\n",
       "        vertical-align: middle;\n",
       "    }\n",
       "\n",
       "    .dataframe tbody tr th {\n",
       "        vertical-align: top;\n",
       "    }\n",
       "\n",
       "    .dataframe thead th {\n",
       "        text-align: right;\n",
       "    }\n",
       "</style>\n",
       "<table border=\"1\" class=\"dataframe\">\n",
       "  <thead>\n",
       "    <tr style=\"text-align: right;\">\n",
       "      <th></th>\n",
       "      <th>MEAN_RR</th>\n",
       "      <th>RMSSD</th>\n",
       "      <th>pNN25</th>\n",
       "      <th>pNN50</th>\n",
       "      <th>LF</th>\n",
       "      <th>HF</th>\n",
       "      <th>LF_HF</th>\n",
       "    </tr>\n",
       "  </thead>\n",
       "  <tbody>\n",
       "    <tr>\n",
       "      <th>0</th>\n",
       "      <td>0.706360</td>\n",
       "      <td>-0.770663</td>\n",
       "      <td>-0.720855</td>\n",
       "      <td>-0.739928</td>\n",
       "      <td>-0.654661</td>\n",
       "      <td>-0.798531</td>\n",
       "      <td>0.206914</td>\n",
       "    </tr>\n",
       "    <tr>\n",
       "      <th>1</th>\n",
       "      <td>-0.237454</td>\n",
       "      <td>1.354437</td>\n",
       "      <td>1.800835</td>\n",
       "      <td>-0.335965</td>\n",
       "      <td>1.057945</td>\n",
       "      <td>0.009896</td>\n",
       "      <td>-0.212909</td>\n",
       "    </tr>\n",
       "    <tr>\n",
       "      <th>2</th>\n",
       "      <td>0.241661</td>\n",
       "      <td>-0.272707</td>\n",
       "      <td>-0.338534</td>\n",
       "      <td>-0.335965</td>\n",
       "      <td>-0.507435</td>\n",
       "      <td>-0.544259</td>\n",
       "      <td>-0.196498</td>\n",
       "    </tr>\n",
       "    <tr>\n",
       "      <th>3</th>\n",
       "      <td>1.540808</td>\n",
       "      <td>0.359083</td>\n",
       "      <td>0.116997</td>\n",
       "      <td>1.010582</td>\n",
       "      <td>-0.615874</td>\n",
       "      <td>-0.708221</td>\n",
       "      <td>-0.089755</td>\n",
       "    </tr>\n",
       "    <tr>\n",
       "      <th>4</th>\n",
       "      <td>-0.578647</td>\n",
       "      <td>-1.141630</td>\n",
       "      <td>-0.956755</td>\n",
       "      <td>-0.807256</td>\n",
       "      <td>-0.995506</td>\n",
       "      <td>-0.127245</td>\n",
       "      <td>-0.290351</td>\n",
       "    </tr>\n",
       "  </tbody>\n",
       "</table>\n",
       "</div>"
      ],
      "text/plain": [
       "    MEAN_RR     RMSSD     pNN25     pNN50        LF        HF     LF_HF\n",
       "0  0.706360 -0.770663 -0.720855 -0.739928 -0.654661 -0.798531  0.206914\n",
       "1 -0.237454  1.354437  1.800835 -0.335965  1.057945  0.009896 -0.212909\n",
       "2  0.241661 -0.272707 -0.338534 -0.335965 -0.507435 -0.544259 -0.196498\n",
       "3  1.540808  0.359083  0.116997  1.010582 -0.615874 -0.708221 -0.089755\n",
       "4 -0.578647 -1.141630 -0.956755 -0.807256 -0.995506 -0.127245 -0.290351"
      ]
     },
     "execution_count": 36,
     "metadata": {},
     "output_type": "execute_result"
    }
   ],
   "source": [
    "df_test[features] = scaler.transform(df_test[features])\n",
    "df_test[features].head()"
   ]
  },
  {
   "cell_type": "code",
   "execution_count": 37,
   "metadata": {
    "execution": {
     "iopub.execute_input": "2024-11-09T15:53:07.995926Z",
     "iopub.status.busy": "2024-11-09T15:53:07.995456Z",
     "iopub.status.idle": "2024-11-09T15:53:08.005486Z",
     "shell.execute_reply": "2024-11-09T15:53:08.004210Z",
     "shell.execute_reply.started": "2024-11-09T15:53:07.995883Z"
    },
    "trusted": true
   },
   "outputs": [],
   "source": [
    "# Define the target label\n",
    "X = df_test[features].values\n",
    "y = df_test[label].values"
   ]
  },
  {
   "cell_type": "code",
   "execution_count": 38,
   "metadata": {
    "execution": {
     "iopub.execute_input": "2024-11-09T15:53:09.553930Z",
     "iopub.status.busy": "2024-11-09T15:53:09.553452Z",
     "iopub.status.idle": "2024-11-09T15:53:09.561246Z",
     "shell.execute_reply": "2024-11-09T15:53:09.559897Z",
     "shell.execute_reply.started": "2024-11-09T15:53:09.553885Z"
    },
    "trusted": true
   },
   "outputs": [],
   "source": [
    "y = k.utils.to_categorical(y)"
   ]
  },
  {
   "cell_type": "code",
   "execution_count": 39,
   "metadata": {
    "execution": {
     "iopub.execute_input": "2024-11-09T15:53:11.867695Z",
     "iopub.status.busy": "2024-11-09T15:53:11.867281Z",
     "iopub.status.idle": "2024-11-09T15:53:13.559127Z",
     "shell.execute_reply": "2024-11-09T15:53:13.557872Z",
     "shell.execute_reply.started": "2024-11-09T15:53:11.867655Z"
    },
    "trusted": true
   },
   "outputs": [
    {
     "name": "stdout",
     "output_type": "stream",
     "text": [
      "\u001b[1m1283/1283\u001b[0m \u001b[32m━━━━━━━━━━━━━━━━━━━━\u001b[0m\u001b[37m\u001b[0m \u001b[1m2s\u001b[0m 1ms/step - accuracy: 0.9666 - loss: 0.0904\n",
      "Test Loss: 0.08947150409221649\n",
      "Test Accuracy: 0.9674652218818665\n"
     ]
    }
   ],
   "source": [
    "loss,acc = model.evaluate(X,y,verbose=1)\n",
    "\n",
    "# Show Loss and Precision\n",
    "print(\"Test Loss:\", loss)\n",
    "print(\"Test Accuracy:\", acc)"
   ]
  },
  {
   "cell_type": "markdown",
   "metadata": {},
   "source": [
    "# Final Pipeline for prediction\n"
   ]
  },
  {
   "cell_type": "code",
   "execution_count": 40,
   "metadata": {
    "execution": {
     "iopub.execute_input": "2024-11-09T15:53:20.502239Z",
     "iopub.status.busy": "2024-11-09T15:53:20.501341Z",
     "iopub.status.idle": "2024-11-09T15:53:20.507875Z",
     "shell.execute_reply": "2024-11-09T15:53:20.506530Z",
     "shell.execute_reply.started": "2024-11-09T15:53:20.502179Z"
    },
    "trusted": true
   },
   "outputs": [],
   "source": [
    "data = combined_test"
   ]
  },
  {
   "cell_type": "code",
   "execution_count": 41,
   "metadata": {
    "execution": {
     "iopub.execute_input": "2024-11-09T15:53:21.701889Z",
     "iopub.status.busy": "2024-11-09T15:53:21.701422Z",
     "iopub.status.idle": "2024-11-09T15:53:21.714452Z",
     "shell.execute_reply": "2024-11-09T15:53:21.713024Z",
     "shell.execute_reply.started": "2024-11-09T15:53:21.701845Z"
    },
    "trusted": true
   },
   "outputs": [
    {
     "name": "stdout",
     "output_type": "stream",
     "text": [
      "[[-6.79587605 -3.21178993 -0.92944377  0.01002419 -1.6456634  -0.85535207\n",
      "  -0.3220368 ]]\n"
     ]
    }
   ],
   "source": [
    "# Transformando a linha específica e mantendo os nomes dos features\n",
    "t = scaler.transform(pd.DataFrame(data[features].iloc[5545].values.reshape(1, -1), columns=features))\n",
    "print(t)"
   ]
  },
  {
   "cell_type": "code",
   "execution_count": 42,
   "metadata": {
    "execution": {
     "iopub.execute_input": "2024-11-09T15:53:23.266483Z",
     "iopub.status.busy": "2024-11-09T15:53:23.266036Z",
     "iopub.status.idle": "2024-11-09T15:53:23.392472Z",
     "shell.execute_reply": "2024-11-09T15:53:23.391209Z",
     "shell.execute_reply.started": "2024-11-09T15:53:23.266440Z"
    },
    "trusted": true
   },
   "outputs": [
    {
     "name": "stdout",
     "output_type": "stream",
     "text": [
      "\u001b[1m1/1\u001b[0m \u001b[32m━━━━━━━━━━━━━━━━━━━━\u001b[0m\u001b[37m\u001b[0m \u001b[1m0s\u001b[0m 209ms/step\n"
     ]
    }
   ],
   "source": [
    "y_pred = model.predict(t)"
   ]
  },
  {
   "cell_type": "code",
   "execution_count": 43,
   "metadata": {
    "execution": {
     "iopub.execute_input": "2024-11-09T15:53:26.229078Z",
     "iopub.status.busy": "2024-11-09T15:53:26.228594Z",
     "iopub.status.idle": "2024-11-09T15:53:26.237259Z",
     "shell.execute_reply": "2024-11-09T15:53:26.235836Z",
     "shell.execute_reply.started": "2024-11-09T15:53:26.229033Z"
    },
    "trusted": true
   },
   "outputs": [
    {
     "data": {
      "text/plain": [
       "array([[0., 0., 1.]], dtype=float32)"
      ]
     },
     "execution_count": 43,
     "metadata": {},
     "output_type": "execute_result"
    }
   ],
   "source": [
    "y_pred"
   ]
  },
  {
   "cell_type": "code",
   "execution_count": 44,
   "metadata": {
    "execution": {
     "iopub.execute_input": "2024-11-09T15:53:49.483747Z",
     "iopub.status.busy": "2024-11-09T15:53:49.483250Z",
     "iopub.status.idle": "2024-11-09T15:53:52.064807Z",
     "shell.execute_reply": "2024-11-09T15:53:52.063409Z",
     "shell.execute_reply.started": "2024-11-09T15:53:49.483675Z"
    },
    "trusted": true
   },
   "outputs": [
    {
     "name": "stdout",
     "output_type": "stream",
     "text": [
      "\u001b[1m1283/1283\u001b[0m \u001b[32m━━━━━━━━━━━━━━━━━━━━\u001b[0m\u001b[37m\u001b[0m \u001b[1m1s\u001b[0m 821us/step\n"
     ]
    },
    {
     "data": {
      "image/png": "[encoded data removed]",
      "text/plain": [
       "<Figure size 1000x600 with 1 Axes>"
      ]
     },
     "metadata": {},
     "output_type": "display_data"
    }
   ],
   "source": [
    "import matplotlib.pyplot as plt\n",
    "import numpy as np\n",
    "\n",
    "# Pegar as features e o label do conjunto de teste correto\n",
    "X_test_combined = combined_test[features].values\n",
    "y_test_combined = combined_test[label].values\n",
    "\n",
    "# Fazer previsões para todo o conjunto de teste\n",
    "y_pred_combined = model.predict(X_test_combined)\n",
    "\n",
    "# Pegar as classes previstas (índice da maior probabilidade)\n",
    "y_pred_class_combined = np.argmax(y_pred_combined, axis=1)\n",
    "\n",
    "# Como estamos trabalhando com um array simples, o y_test_combined já pode estar na forma de inteiros\n",
    "y_test_class_combined = y_test_combined.flatten()  # Para garantir que não tenha dimensões extras\n",
    "\n",
    "# Plotar os primeiros 100 valores previstos vs valores reais\n",
    "plt.figure(figsize=(10, 6))\n",
    "\n",
    "# Comparar os valores reais e previstos\n",
    "plt.plot(y_test_class_combined[:100], 'b-', label='True Values')  # Valores reais\n",
    "plt.plot(y_pred_class_combined[:100], 'r--', label='Predicted Values')  # Previsões\n",
    "\n",
    "# Adicionar títulos e rótulos\n",
    "plt.title('Predicted vs True Values')\n",
    "plt.xlabel('Sample Index')\n",
    "plt.ylabel('Class')\n",
    "plt.legend()\n",
    "plt.show()"
   ]
  },
  {
   "cell_type": "code",
   "execution_count": 45,
   "metadata": {
    "execution": {
     "iopub.execute_input": "2024-11-09T15:54:11.454225Z",
     "iopub.status.busy": "2024-11-09T15:54:11.453694Z",
     "iopub.status.idle": "2024-11-09T15:54:11.461304Z",
     "shell.execute_reply": "2024-11-09T15:54:11.460050Z",
     "shell.execute_reply.started": "2024-11-09T15:54:11.454180Z"
    },
    "trusted": true
   },
   "outputs": [
    {
     "name": "stdout",
     "output_type": "stream",
     "text": [
      "Number of incorrect predictions in the first 100 samples: 2\n"
     ]
    }
   ],
   "source": [
    "# Count the number of incorrect predictions \n",
    "errors = np.sum(y_pred_class_combined[:100] != y_test_class_combined[:100])\n",
    "\n",
    "# Print Them\n",
    "print(f\"Number of incorrect predictions in the first 100 samples: {errors}\")"
   ]
  },
  {
   "cell_type": "code",
   "execution_count": 46,
   "metadata": {
    "execution": {
     "iopub.execute_input": "2024-11-09T15:54:49.350436Z",
     "iopub.status.busy": "2024-11-09T15:54:49.349948Z",
     "iopub.status.idle": "2024-11-09T15:54:49.358181Z",
     "shell.execute_reply": "2024-11-09T15:54:49.356776Z",
     "shell.execute_reply.started": "2024-11-09T15:54:49.350393Z"
    },
    "trusted": true
   },
   "outputs": [
    {
     "name": "stdout",
     "output_type": "stream",
     "text": [
      "Train Accuracy: 0.9676714539527893\n",
      "Validation Accuracy: 0.9665935635566711\n"
     ]
    }
   ],
   "source": [
    "print(\"Train Accuracy:\", history.history['accuracy'][-1])                                                                                             \n",
    "print(\"Validation Accuracy:\", history.history['val_accuracy'][-1])"
   ]
  },
  {
   "cell_type": "markdown",
   "metadata": {},
   "source": [
    "# Conclusion\n",
    "\n",
    "The model was trained with a final **training accuracy** of **95.85%** and a **validation accuracy** of **95.72%**, indicating strong performance on both the training and validation sets. These results suggest that the model is well-optimized and generalizes well to unseen data, as the validation accuracy closely matches the training accuracy.\n",
    "\n",
    "#### Insights from the Graph:\n",
    "- The graph above compares the **true values** (in blue) and the **predicted values** (in red) for the first 100 samples in the test set.\n",
    "- As seen, the predicted values (dashed red lines) closely follow the true values (solid blue lines), indicating that the model is correctly classifying the majority of the test samples.\n",
    "- However, some deviations are visible, especially in regions where the class changes rapidly. These deviations could be due to the inherent complexity of the data or areas where the model might require further tuning.\n",
    "\n",
    "#### Conclusion:\n",
    "Overall, the model demonstrates excellent predictive power with a high degree of accuracy. The minor deviations observed in the predictions suggest there is still some room for improvement, but the close alignment between predicted and true values across most samples is a strong indicator that the model has effectively captured the underlying patterns in the data."
   ]
  },
  {
   "cell_type": "code",
   "execution_count": 48,
   "metadata": {
    "trusted": true
   },
   "outputs": [],
   "source": [
    "# model_json = model.to_json()\n",
    "# with open(\"emotiondetector.json\",'w') as json_file:\n",
    "#     json_file.write(model_json)\n",
    "# model.save('my_model.keras') #emotiondetector.h5\n",
    "# Save model weights\n",
    "model.save_weights('/home/gesture-queen/Desktop/EmulsifyFinal/emotionMusicBasedReccommendation/ann_model.weights.h5')\n",
    "\n",
    "# If you want to save the model architecture too\n",
    "model_json = model.to_json()\n",
    "with open(\"/home/gesture-queen/Desktop/EmulsifyFinal/emotionMusicBasedReccommendation/ann_model_architecture.json\", \"w\") as json_file:\n",
    "    json_file.write(model_json)"
   ]
  }
 ],
 "metadata": {
  "kaggle": {
   "accelerator": "none",
   "dataSources": [
    {
     "datasetId": 1539143,
     "sourceId": 2538610,
     "sourceType": "datasetVersion"
    }
   ],
   "dockerImageVersionId": 30761,
   "isGpuEnabled": false,
   "isInternetEnabled": true,
   "language": "python",
   "sourceType": "notebook"
  },
  "kernelspec": {
   "display_name": "tf2",
   "language": "python",
   "name": "python3"
  },
  "language_info": {
   "codemirror_mode": {
    "name": "ipython",
    "version": 3
   },
   "file_extension": ".py",
   "mimetype": "text/x-python",
   "name": "python",
   "nbconvert_exporter": "python",
   "pygments_lexer": "ipython3",
   "version": "3.12.7"
  }
 },
 "nbformat": 4,
 "nbformat_minor": 4
}
